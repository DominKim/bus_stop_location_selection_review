{
 "cells": [
  {
   "cell_type": "markdown",
   "id": "designed-cricket",
   "metadata": {},
   "source": [
    "# 패키지 설치"
   ]
  },
  {
   "cell_type": "code",
   "execution_count": null,
   "id": "interim-government",
   "metadata": {},
   "outputs": [],
   "source": [
    "import copy\n",
    "import pathlib\n",
    "import random\n",
    "from functools import reduce\n",
    "from collections import defaultdict\n",
    "import json\n",
    "import pandas as pd\n",
    "import numpy as np\n",
    "from numpy import random\n",
    "\n",
    "import matplotlib.pyplot as plt\n",
    "import seaborn as sns\n",
    "\n",
    "# 공간연산한 결과 데이터 표현하기 위한 패키지 \n",
    "import folium\n",
    "from folium import plugins\n",
    "import shapely\n",
    "from shapely.geometry import Point, Polygon, LineString\n",
    "import geopandas as gpd\n",
    "from IPython.display import display\n",
    "from tqdm.notebook import tqdm\n",
    "import sklearn.cluster\n",
    "from geoband import API # API 부르기 \n",
    "import pydeck as pdk\n",
    "import os\n",
    "from tqdm import notebook\n",
    "import tqdm\n",
    "\n",
    "import cufflinks as cf \n",
    "cf.go_offline(connected=True)\n",
    "cf.set_config_file(theme='polar')\n",
    "pd.set_option('display.max_columns', 500)\n",
    "pd.set_option('display.width', 1000)\n",
    "\n",
    "# 경고 무시\n",
    "import warnings\n",
    "warnings.filterwarnings('ignore')\n",
    "\n",
    "import matplotlib.pyplot as plt\n",
    "from matplotlib import font_manager, rc\n",
    "font_name = font_manager.FontProperties(fname=\"./data/NanumGothic-Regular.ttf\").get_name()\n",
    "rc('font', family=font_name)\n",
    "\n",
    "from shapely.geometry import Polygon, Point\n",
    "from numpy import random\n",
    "\n",
    "#최적화 solver\n",
    "import time\n",
    "from mip import Model, xsum, maximize, BINARY  \n",
    "\n",
    "import matplotlib.pyplot as plt\n",
    "import seaborn as sns\n",
    "import warnings\n",
    "\n",
    "import statsmodels.api as sm\n",
    "from statsmodels.sandbox.regression.predstd import wls_prediction_std\n",
    "from sklearn.model_selection import train_test_split\n",
    "import pysal\n",
    "import libpysal\n",
    "from libpysal.weights import Queen, Rook, KNN, DistanceBand, Kernel\n",
    "from esda.getisord import G\n",
    "from esda.moran import Moran\n",
    "from spreg import OLS, ML_Lag, ML_Error, GM_Lag, GM_Error, TSLS\n",
    "\n",
    "warnings.filterwarnings(\"ignore\")\n",
    "%matplotlib inline"
   ]
  },
  {
   "cell_type": "markdown",
   "id": "cubic-lending",
   "metadata": {},
   "source": [
    "# 데이터 불러오기"
   ]
  },
  {
   "cell_type": "code",
   "execution_count": null,
   "id": "differential-architect",
   "metadata": {},
   "outputs": [],
   "source": [
    "# 노트북에서 만든 data_list load\n",
    "file_df = pd.read_csv(\"./data/data_list.csv\")\n",
    "\n",
    "# order_num type change int to str\n",
    "file_df[\"order_num\"] = file_df[\"order_num\"].apply(lambda x: str(x))\n",
    "\n",
    "# 동적변수 데이터 할당\n",
    "for idx in tqdm.tqdm(range(len(file_df) - 2)):\n",
    "#     print(idx)\n",
    "    file_name = \".\".join(file_df.iloc[idx, :])\n",
    "    globals()[f\"df_{idx + 1}\"] = gpd.read_file(\"./data/\" + file_name)"
   ]
  },
  {
   "cell_type": "code",
   "execution_count": null,
   "id": "alive-vacuum",
   "metadata": {},
   "outputs": [],
   "source": [
    "# string to geometry\n",
    "def str_to_geo(x):\n",
    "    a = shapely.wkt.loads(x)\n",
    "    return a"
   ]
  },
  {
   "cell_type": "code",
   "execution_count": null,
   "id": "signal-madison",
   "metadata": {},
   "outputs": [],
   "source": [
    "# data read\n",
    "df_500 = pd.read_csv(\"./data/df_500_train.csv\")\n",
    "df_100_to_500 = pd.read_csv(\"./data/df_100_to_500_test.csv\")\n",
    "x_col = pd.read_csv(\"./data/x_col.csv\").iloc[:,0].values\n",
    "air = pd.read_csv(\"./data/air_quarter.csv\")\n",
    "df_100 = pd.read_csv(\"./data/df_100.csv\")\n",
    "road_geo = pd.read_csv(\"./data/road_transport.csv\")\n",
    "\n",
    "\n",
    "road_geo = gpd.GeoDataFrame(road_geo)\n",
    "df_100 = gpd.GeoDataFrame(df_100)\n",
    "df_500 = gpd.GeoDataFrame(df_500)\n",
    "df_100_to_500 = gpd.GeoDataFrame(df_100_to_500)\n",
    "air = gpd.GeoDataFrame(air)"
   ]
  },
  {
   "cell_type": "code",
   "execution_count": null,
   "id": "weighted-option",
   "metadata": {},
   "outputs": [],
   "source": [
    "# 데이터 타입 변경\n",
    "df_100[\"geometry\"] = df_100[\"geometry\"].apply(lambda x: str_to_geo(x))\n",
    "df_100[\"gid_center\"] = df_100[\"gid_center\"].apply(lambda x: str_to_geo(x))\n",
    "df_100[\"gid_center\"] = df_100[\"gid_center\"].astype(\"geometry\")\n",
    "df_500[\"geometry\"] = df_500[\"geometry\"].apply(lambda x: str_to_geo(x))\n",
    "air[\"geometry\"] = gpd.points_from_xy(air.lon, air.lat)\n",
    "road_geo[\"geometry\"] = road_geo[\"geometry\"].apply(lambda x: str_to_geo(x))"
   ]
  },
  {
   "cell_type": "code",
   "execution_count": null,
   "id": "looking-traveler",
   "metadata": {},
   "outputs": [],
   "source": [
    "# 버퍼\n",
    "coor_1m = (1/88.74/1000)\n",
    "air[\"buffer\"] = air[\"geometry\"].buffer(coor_1m * 5000)"
   ]
  },
  {
   "cell_type": "markdown",
   "id": "unlimited-homework",
   "metadata": {},
   "source": [
    "# 모델링"
   ]
  },
  {
   "cell_type": "code",
   "execution_count": null,
   "id": "operating-rehabilitation",
   "metadata": {},
   "outputs": [],
   "source": [
    "# modeling\n",
    "from sklearn.linear_model import LinearRegression, SGDRegressor\n",
    "from sklearn.tree import DecisionTreeRegressor\n",
    "from sklearn.ensemble import RandomForestRegressor\n",
    "from xgboost import XGBRegressor\n",
    "from sklearn.model_selection import KFold, train_test_split, cross_val_score\n",
    "from sklearn.metrics import r2_score"
   ]
  },
  {
   "cell_type": "markdown",
   "id": "occasional-romania",
   "metadata": {},
   "source": [
    "# 교차검증"
   ]
  },
  {
   "cell_type": "code",
   "execution_count": null,
   "id": "dynamic-berkeley",
   "metadata": {},
   "outputs": [],
   "source": [
    "# 교차검수 점수\n",
    "def check_score(df, kfold, x_col, y_col, model):\n",
    "    x = df[x_col]\n",
    "    y = df[y_col]\n",
    "    print(\"교차 검증 점수 : \", cross_val_score(model, x, y, cv = kfold))"
   ]
  },
  {
   "cell_type": "code",
   "execution_count": null,
   "id": "changing-discussion",
   "metadata": {},
   "outputs": [],
   "source": [
    "# k-fold 교차검증으로 모델들의 r2_score 확인\n",
    "# 음수값이 나올정도로 모델의 성능이 나쁘고 dataset이 작다보니깐 일반화도 잘되어 있지 않다.\n",
    "lr_reg = LinearRegression()\n",
    "sgd_reg = SGDRegressor(max_iter=300)\n",
    "dtree_reg = DecisionTreeRegressor()\n",
    "xgb_reg = XGBRegressor()\n",
    "rf_reg = RandomForestRegressor()\n",
    "\n",
    "kfold = KFold(n_splits=5)\n",
    "\n",
    "models = [lr_reg, sgd_reg, dtree_reg, xgb_reg, rf_reg]\n",
    "model_name = [\"선형회귀\", \"경사하강\", \"결정트리\", \"xgboost\", \"랜덤포레스트\"]\n",
    "\n",
    "for idx, model in enumerate(models):\n",
    "    print(model_name[idx], \"교차검증 r2_score\")\n",
    "    check_score(df_500, kfold, x_col, \"승하차건수\", model)"
   ]
  },
  {
   "cell_type": "code",
   "execution_count": null,
   "id": "written-sapphire",
   "metadata": {},
   "outputs": [],
   "source": [
    "col = np.append(x_col, \"승하차건수\")"
   ]
  },
  {
   "cell_type": "code",
   "execution_count": null,
   "id": "based-grill",
   "metadata": {},
   "outputs": [],
   "source": [
    "# 공업시설과 종속변수의 scatterplot\n",
    "# 제거 고려 대상 승하차건수 < 10\n",
    "# 공업시설 > 0.1\n",
    "sns.scatterplot(x= df_500[x_col[0]], y= df_500[\"승하차건수\"])"
   ]
  },
  {
   "cell_type": "markdown",
   "id": "blocked-ideal",
   "metadata": {},
   "source": [
    "# 이상치 제거"
   ]
  },
  {
   "cell_type": "code",
   "execution_count": null,
   "id": "random-police",
   "metadata": {},
   "outputs": [],
   "source": [
    "# 제거대상\n",
    "idx_1 = df_500[(df_500[\"승하차건수\"] < 10.0) & (df_500[\"공업시설\"] > 0.1)].index.values"
   ]
  },
  {
   "cell_type": "code",
   "execution_count": null,
   "id": "cordless-desert",
   "metadata": {},
   "outputs": [],
   "source": [
    "# 문화체육시설과 승하차건수\n",
    "# 문화체육시설 \n",
    "sns.scatterplot(x= df_500[x_col[1]], y= df_500[\"승하차건수\"])"
   ]
  },
  {
   "cell_type": "code",
   "execution_count": null,
   "id": "broadband-bronze",
   "metadata": {},
   "outputs": [],
   "source": [
    "# 제거대상\n",
    "idx_2 = df_500[(df_500[\"승하차건수\"] < 4) & (df_500[\"문화체육시설\"] > 0.02)].index.values"
   ]
  },
  {
   "cell_type": "code",
   "execution_count": null,
   "id": "ethical-option",
   "metadata": {},
   "outputs": [],
   "source": [
    "# 상업시설과 승하차건수\n",
    "sns.scatterplot(x= df_500[x_col[2]], y= df_500[\"승하차건수\"])"
   ]
  },
  {
   "cell_type": "code",
   "execution_count": null,
   "id": "incident-sending",
   "metadata": {},
   "outputs": [],
   "source": [
    "# 제거대상\n",
    "idx_3 = df_500[(df_500[\"승하차건수\"] < 4) & (df_500[\"상업시설\"] > 0.1)].index.values"
   ]
  },
  {
   "cell_type": "code",
   "execution_count": null,
   "id": "urban-cabinet",
   "metadata": {},
   "outputs": [],
   "source": [
    "# 주거시설과 승하차건수\n",
    "sns.scatterplot(x= df_500[x_col[3]], y= df_500[\"승하차건수\"])"
   ]
  },
  {
   "cell_type": "code",
   "execution_count": null,
   "id": "stuck-extent",
   "metadata": {},
   "outputs": [],
   "source": [
    "# 제거대상\n",
    "idx_4 = df_500[(df_500[\"승하차건수\"] < 6.5) & (df_500[\"주거시설\"] > 0.15)].index.values"
   ]
  },
  {
   "cell_type": "code",
   "execution_count": null,
   "id": "extra-oliver",
   "metadata": {},
   "outputs": [],
   "source": [
    "# 제거 index 병합\n",
    "idx = np.concatenate([idx_1, idx_2, idx_3, idx_4])\n",
    "# 중복 제거\n",
    "idx = list(set(idx))"
   ]
  },
  {
   "cell_type": "code",
   "execution_count": null,
   "id": "blind-february",
   "metadata": {},
   "outputs": [],
   "source": [
    "# 이상치 변수 제거 \n",
    "df_500_drop = copy.deepcopy(df_500.drop(idx).reset_index(drop = True))"
   ]
  },
  {
   "cell_type": "code",
   "execution_count": null,
   "id": "champion-master",
   "metadata": {},
   "outputs": [],
   "source": [
    "# 이상치 제거 후 변수\n",
    "# 여전히 낮은 설명력\n",
    "lr_reg = LinearRegression()\n",
    "sgd_reg = SGDRegressor(max_iter=300)\n",
    "dtree_reg = DecisionTreeRegressor()\n",
    "xgb_reg = XGBRegressor()\n",
    "rf_reg = RandomForestRegressor()\n",
    "\n",
    "kfold = KFold(n_splits=5)\n",
    "\n",
    "models = [lr_reg, sgd_reg, dtree_reg, xgb_reg, rf_reg]\n",
    "model_name = [\"선형회귀\", \"경사하강\", \"결정트리\", \"xgboost\", \"랜덤포레스트\"]\n",
    "\n",
    "for idx, model in enumerate(models):\n",
    "    print(model_name[idx], \"교차검증 r2_score\")\n",
    "    check_score(df_500_drop, kfold, x_col, \"승하차건수\", model)"
   ]
  },
  {
   "cell_type": "code",
   "execution_count": null,
   "id": "amateur-thermal",
   "metadata": {},
   "outputs": [],
   "source": [
    "road_width = df_22.loc[:, [\"link_id\", \"width\"]]\n",
    "road_width[\"link_id\"] = road_width[\"link_id\"].astype(\"int\")\n",
    "\n",
    "# 도로폭 추가 road df\n",
    "road_geo_width = pd.merge(road_geo, road_width, how=\"left\", on=\"link_id\")"
   ]
  },
  {
   "cell_type": "code",
   "execution_count": null,
   "id": "technical-diabetes",
   "metadata": {},
   "outputs": [],
   "source": [
    "# air buffer\n",
    "air_buffer = air.loc[:, [\"center\", \"buffer\"]].rename({\"buffer\":\"geometry\"}, axis = 1)\n",
    "air_buffer = air_buffer.drop_duplicates().reset_index(drop = True)\n",
    "air_buffer[\"buffer\"] = air_buffer[\"geometry\"]"
   ]
  },
  {
   "cell_type": "code",
   "execution_count": null,
   "id": "adjustable-refund",
   "metadata": {},
   "outputs": [],
   "source": [
    "# air 시각화\n",
    "style0 = {'fillColor': '#228B22', 'color': 'black', \"opacity\":\"0.3\", \"fillOpacity\":\"0\"}\n",
    "style1 = {'fillColor': '#228B22', 'color': 'blue', \"fillOpacity\":\"0\",\"opacity\":\"0.3\"}\n",
    "style2 = {'fillColor': '#00FFFFFF', 'color': 'red', \"fillOpacity\":\"0\",\"opacity\":\"0.3\"}\n",
    "style3 = {'fillColor': '#00FFFFFF', 'color': 'red', \"opacity\":\"0.5\"}\n",
    "m = folium.Map([37,127], zoom_start=7)\n",
    "\n",
    "# df_100_0.crs = \"epsg:4326\"\n",
    "air_buffer.crs = \"epsg:4326\"\n",
    "df_100_to_500_point.crs = \"epsg:4326\"\n",
    "\n",
    "\n",
    "m = folium.Map(max_bounds = True,\n",
    "               zoom_start=12,\n",
    "               location=[37.277896,127.016544])\n",
    "\n",
    "\n",
    "\n",
    "# for idx in range(len(df_500)):\n",
    "#     folium.vector_layers.Polygon(\n",
    "#         locations = build_df.loc[idx, \"geometry\"]\n",
    "#     ).add_to(m)\n",
    "\n",
    "folium.GeoJson(\"./data/31.수원시_행정경계(읍면동).geojson\", name=\"geojson\", style_function = lambda x: style0).add_to(m)\n",
    "folium.GeoJson(data = air_buffer.loc[:, \"geometry\"], style_function = lambda x:style1).add_to(m)\n",
    "folium.GeoJson(data = df_100_to_500_point, style_function = lambda x:style2).add_to(m)\n",
    "m"
   ]
  },
  {
   "cell_type": "code",
   "execution_count": null,
   "id": "precious-kingdom",
   "metadata": {},
   "outputs": [],
   "source": [
    "# gis 관련변수\n",
    "df_100_crit = df_100.loc[:, [\"gid\", \"geometry\", \"gid_center\"]]"
   ]
  },
  {
   "cell_type": "code",
   "execution_count": null,
   "id": "normal-coordinate",
   "metadata": {},
   "outputs": [],
   "source": [
    "# gid 기준 병합\n",
    "df_100_to_500 = df_100_to_500.drop_duplicates()\n",
    "df_100_to_500_geo = pd.merge(df_100_to_500, df_100_crit, how = \"left\", on = \"gid\")"
   ]
  },
  {
   "cell_type": "code",
   "execution_count": null,
   "id": "intense-horror",
   "metadata": {},
   "outputs": [],
   "source": [
    "# gid geometry 변수 추가\n",
    "df_100_to_500_point = df_100_to_500_geo.loc[:, [\"gid\", \"gid_center\"]].rename({\"gid_center\":\"geometry\"}, axis = 1)\n",
    "df_100_to_500_point = gpd.GeoDataFrame(df_100_to_500_point)"
   ]
  },
  {
   "cell_type": "code",
   "execution_count": null,
   "id": "tamil-utilization",
   "metadata": {},
   "outputs": [],
   "source": [
    "# sjoin 시에 gid_center 변수 살리기위해\n",
    "df_100_to_500_point[\"gid_center\"] = df_100_to_500_point[\"geometry\"]"
   ]
  },
  {
   "cell_type": "code",
   "execution_count": null,
   "id": "altered-diameter",
   "metadata": {},
   "outputs": [],
   "source": [
    "# 관측소버퍼와 gid위치 contains\n",
    "air_df_100_to_500_geo = gpd.sjoin(air_buffer, df_100_to_500_point, op=\"contains\")\n",
    "\n",
    "# 관측소 위치와 gid 위치 거리 구하기\n",
    "air_df_100_to_500_geo[\"distance\"] = 0\n",
    "air_df_100_to_500_geo[\"distance\"] = (air_df_100_to_500_geo[\"buffer\"].centroid).distance(air_df_100_to_500_geo[\"gid_center\"])"
   ]
  },
  {
   "cell_type": "code",
   "execution_count": null,
   "id": "natural-engagement",
   "metadata": {},
   "outputs": [],
   "source": [
    "# gid별 distance 정렬\n",
    "air_df_100_t = air_df_100_to_500_geo.sort_values([\"gid\", \"distance\"]).reset_index(drop = True)\n",
    "\n",
    "# 최소값 index 추출\n",
    "idx = air_df_100_t.loc[:, [\"gid\", \"gid_center\"]].drop_duplicates(keep = \"first\").index\n",
    "\n",
    "# center명과 gid 명 추출\n",
    "air_crit = air_df_100_t.iloc[idx, :].reset_index(drop = True).loc[:, [\"center\", \"gid\"]]\n",
    "\n",
    "# df_100_to_500_geo에 관측소 center명 추가\n",
    "df_100_to_500_geo_center = pd.merge(df_100_to_500_geo, air_crit, how= \"left\", on=\"gid\")"
   ]
  },
  {
   "cell_type": "code",
   "execution_count": null,
   "id": "velvet-racing",
   "metadata": {},
   "outputs": [],
   "source": [
    "# 분기별 관측소 평균 CAI 확인\n",
    "# 1분기 평균으로 정한다.# 가장 미세먼지가 심한 분기로 필터링\n",
    "for i in range(1, 5):\n",
    "    print(f\"{i}분기 CAI 값\")\n",
    "    print(air[air[\"분기\"] == i].groupby(\"center\")[\"CAI\"].agg(\"mean\").sort_values())\n",
    "    print(\"\\n\")"
   ]
  },
  {
   "cell_type": "code",
   "execution_count": null,
   "id": "exposed-worse",
   "metadata": {},
   "outputs": [],
   "source": [
    "# CAI 평균 \n",
    "air_cai = air.groupby(\"center\")[\"CAI\"].agg(\"mean\").sort_values().reset_index()\n",
    "# air_cai[\"CAI_num\"] = pd.cut(air_cai[\"CAI\"], 5, labels = range(1, 6))\n",
    "\n",
    "# air_cai[\"CAI_num\"] = air_cai[\"CAI_num\"].astype(\"int\")"
   ]
  },
  {
   "cell_type": "code",
   "execution_count": null,
   "id": "destroyed-departure",
   "metadata": {},
   "outputs": [],
   "source": [
    "# 교통량과 CAI변수의 상관분석\n",
    "# center의 위치와 읍면동 위치로 병합하기 위해\n",
    "# ..1동은 ..동으로 바꾸는 함수\n",
    "# 참고 : center가 직접 위치해 있는 동만 바꿈\n",
    "def re_emd(x):\n",
    "    if x == '광교1동' or x == '광교1동':\n",
    "        a = '광교동'\n",
    "    elif x == '영통1동' or x == '영통2동' or x == '영통3동':\n",
    "        a = '영통동'\n",
    "    else:\n",
    "        a = x\n",
    "    return a\n",
    "\n",
    "# 함수적용\n",
    "road_geo_width[\"읍면동명\"] = road_geo_width[\"읍면동명\"].apply(lambda x: re_emd(x))\n",
    "\n",
    "# 교통량 관련 변수 추출\n",
    "col = road_geo_width.iloc[:, 7: -3].columns.values\n",
    "# 읍면동명으로 그룹화 후 교통량 관련 변수 평균\n",
    "cor_df = road_geo_width.groupby(\"읍면동명\")[col].agg(\"mean\").reset_index()\n",
    "\n",
    "# 병합 후 상관분석\n",
    "pd.merge(cor_df, air_cai, left_on=\"읍면동명\", right_on=\"center\").corr()\n",
    "\n",
    "# 전체 추정교통량과 CAI는 상관계수가 높으므로 교통량 변수들은 사용안하고 CAI 변수만 지수산출에 사용"
   ]
  },
  {
   "cell_type": "code",
   "execution_count": null,
   "id": "judicial-heather",
   "metadata": {},
   "outputs": [],
   "source": [
    "df_100_to_500_geo_center_cai = pd.merge(df_100_to_500_geo_center, air_cai, how = \"left\", on=\"center\")"
   ]
  },
  {
   "cell_type": "code",
   "execution_count": null,
   "id": "encouraging-framing",
   "metadata": {},
   "outputs": [],
   "source": [
    "final_x_col = np.append(x_col, \"CAI\")\n",
    "final_x_col = np.delete(x_col)"
   ]
  },
  {
   "cell_type": "code",
   "execution_count": null,
   "id": "expanded-patch",
   "metadata": {},
   "outputs": [],
   "source": [
    "# final_X_col 지수 부여\n",
    "num_lst = []\n",
    "for col in final_x_col:\n",
    "    # 공업시설은 계수가 음수이기 때문에 낮은 값일수록 높은 점수 부여\n",
    "    if col == \"공업시설\":\n",
    "        num_col = col + \"_num\"\n",
    "        num_lst.append(num_col)\n",
    "        cut_5 = pd.cut(df_100_to_500_geo_center_cai[col], 5, labels = range(5, 0, -1))\n",
    "        df_100_to_500_geo_center_cai[num_col] = cut_5\n",
    "        df_100_to_500_geo_center_cai[num_col] = df_100_to_500_geo_center_cai[num_col].astype(\"int\")\n",
    "        \n",
    "    else:\n",
    "        num_col = col + \"_num\"\n",
    "        num_lst.append(num_col)\n",
    "        cut_5 = pd.cut(df_100_to_500_geo_center_cai[col], 5, labels = range(1, 6))\n",
    "        df_100_to_500_geo_center_cai[num_col] = cut_5\n",
    "        df_100_to_500_geo_center_cai[num_col] = df_100_to_500_geo_center_cai[num_col].astype(\"int\")"
   ]
  },
  {
   "cell_type": "code",
   "execution_count": null,
   "id": "domestic-wholesale",
   "metadata": {},
   "outputs": [],
   "source": [
    "# 최종지수\n",
    "check_num = df_100_to_500_geo_center_cai.loc[:, num_lst].sum(axis = 1)\n",
    "df_100_to_500_geo_center_cai[\"check_num\"] = check_num\n",
    "df_100_to_500_geo_center_cai = gpd.GeoDataFrame(df_100_to_500_geo_center_cai)"
   ]
  },
  {
   "cell_type": "code",
   "execution_count": null,
   "id": "seeing-iraqi",
   "metadata": {},
   "outputs": [],
   "source": [
    "# 격자 road sjoin 뽑기\n",
    "a = gpd.sjoin(df_100_to_500_geo_center_cai[[\"gid\", \"geometry\"]], df_26, how = \"inner\")"
   ]
  },
  {
   "cell_type": "code",
   "execution_count": null,
   "id": "complex-yugoslavia",
   "metadata": {},
   "outputs": [],
   "source": [
    "# 스마트 정류장의 세로가 2.5m이고 보행자 통해공간 폭인 1.5m 이상 확보 되야 되므로\n",
    "# 인도의 폭은 4m 이상을 만족해야 된다.\n",
    "# 인도를 포함한 격자 데이터 중 4m이상의 인도 폭을 가진 gid 추출\n",
    "road_gid = a[a[\"WIDT\"] >= 4][\"gid\"].unique()"
   ]
  },
  {
   "cell_type": "code",
   "execution_count": null,
   "id": "optical-worst",
   "metadata": {},
   "outputs": [],
   "source": [
    "# road_gid 필터링\n",
    "df_100_to_500_geo_center_cai_road = df_100_to_500_geo_center_cai.set_index(\"gid\").loc[road_gid, :].reset_index()"
   ]
  },
  {
   "cell_type": "code",
   "execution_count": null,
   "id": "absolute-clause",
   "metadata": {},
   "outputs": [],
   "source": [
    "# bus 변수 추출\n",
    "bus_df = df_500.loc[:, :\"geometry\"]"
   ]
  },
  {
   "cell_type": "code",
   "execution_count": null,
   "id": "excellent-adventure",
   "metadata": {},
   "outputs": [],
   "source": [
    "# df_100_to_500 변수에\n",
    "final_df_bus = gpd.sjoin(df_100_to_500_geo_center_cai_road, bus_df, how = \"left\", op = \"contains\")"
   ]
  },
  {
   "cell_type": "markdown",
   "id": "primary-enterprise",
   "metadata": {},
   "source": [
    "# 대표 버스정류장 추출"
   ]
  },
  {
   "cell_type": "code",
   "execution_count": null,
   "id": "hollow-setup",
   "metadata": {},
   "outputs": [],
   "source": [
    "# 1. 100m 격자내에 버스정류장이 속한 격자추출\n",
    "final_df_bus_out = final_df_bus[final_df_bus[\"정류장ID\"].isnull()].reset_index(drop = True)\n",
    "final_df_bus_in = final_df_bus[final_df_bus[\"정류장ID\"].notnull()].reset_index(drop = True)"
   ]
  },
  {
   "cell_type": "code",
   "execution_count": null,
   "id": "dangerous-donor",
   "metadata": {},
   "outputs": [],
   "source": [
    "# 2. BIS 설치여부로 필터링\n",
    "final_df_bus_in_bis = final_df_bus_in[final_df_bus_in[\"BIS설치여부\"] == 1.0].reset_index(drop = True)"
   ]
  },
  {
   "cell_type": "code",
   "execution_count": null,
   "id": "based-catch",
   "metadata": {},
   "outputs": [],
   "source": [
    "# 3. 100m 격자의 중심과의 거리와 가장 가까운 정류장\n",
    "final_df_bus_in_bis[\"bus_center\"] = gpd.points_from_xy(final_df_bus_in_bis.lon, final_df_bus_in_bis.lat)\n",
    "final_df_bus_in_bis[\"distance\"] = final_df_bus_in_bis[\"gid_center\"].distance(final_df_bus_in_bis[\"bus_center\"])\n",
    "\n",
    "idx = final_df_bus_in_bis.sort_values(by = [\"gid\", \"distance\"])[[\"gid\", \"old\"]].drop_duplicates(keep = \"first\").index.values\n",
    "final_df_bus_in_bis_dist = final_df_bus_in_bis.iloc[idx, :].reset_index(drop = True)"
   ]
  },
  {
   "cell_type": "code",
   "execution_count": null,
   "id": "charged-harvey",
   "metadata": {},
   "outputs": [],
   "source": [
    "# 최종 df \n",
    "real_final_df = pd.concat([final_df_bus_out, final_df_bus_in_bis_dist]).reset_index(drop = True)\n",
    "real_final_df.to_csv(\"./data/real_final_df.csv\", index = False)"
   ]
  },
  {
   "cell_type": "markdown",
   "id": "coordinate-channels",
   "metadata": {},
   "source": [
    "# 광고 타켓팅 선정"
   ]
  },
  {
   "cell_type": "code",
   "execution_count": null,
   "id": "right-privacy",
   "metadata": {},
   "outputs": [],
   "source": [
    "# 광고 마케팅 target\n",
    "max_data = real_final_df.iloc[:, 6:18].max(axis = 1).values\n",
    "ad_col = real_final_df.iloc[:, 6:18].columns.values\n",
    "copy_df = copy.deepcopy(real_final_df.iloc[:, 6:18])\n",
    "copy_df[\"ad_target\"] = 0\n",
    "\n",
    "\n",
    "for idx in range(len(copy_df)):\n",
    "    index = np.where(real_final_df.iloc[idx, 6:18] == max_data[idx])[0]\n",
    "    col = ad_col[index]\n",
    "    copy_df.loc[idx, \"ad_target\"] = col[0]"
   ]
  },
  {
   "cell_type": "code",
   "execution_count": null,
   "id": "mineral-crime",
   "metadata": {},
   "outputs": [],
   "source": [
    "# real_final_df ad_target 변수 추가\n",
    "real_final_df[\"ad_target\"] = copy_df[\"ad_target\"]"
   ]
  },
  {
   "cell_type": "code",
   "execution_count": null,
   "id": "ceramic-winning",
   "metadata": {},
   "outputs": [],
   "source": [
    "# 최종 df save\n",
    "real_final_df.to_csv(\"./data/real_final_df.csv\", index = False)"
   ]
  },
  {
   "cell_type": "code",
   "execution_count": null,
   "id": "front-dinner",
   "metadata": {},
   "outputs": [],
   "source": [
    "# 시각화 작업\n",
    "df_plot = real_final_df.sort_values(by = \"check_num\", ascending = False).head(30).reset_index(drop = True)"
   ]
  },
  {
   "cell_type": "code",
   "execution_count": null,
   "id": "prepared-drove",
   "metadata": {},
   "outputs": [],
   "source": [
    "df_plot_bus = df_plot[df_plot[\"lon\"].notnull()].reset_index(drop = True)"
   ]
  },
  {
   "cell_type": "code",
   "execution_count": null,
   "id": "plain-revolution",
   "metadata": {},
   "outputs": [],
   "source": [
    "df_plot_bus_geo = df_plot_bus[[\"gid\", \"bus_center\"]].rename({\"bus_center\":\"geometry\"}, axis = 1)"
   ]
  },
  {
   "cell_type": "code",
   "execution_count": null,
   "id": "diverse-adrian",
   "metadata": {},
   "outputs": [],
   "source": [
    "df_plot_bus_geo = gpd.GeoDataFrame(df_plot_bus_geo)"
   ]
  },
  {
   "cell_type": "code",
   "execution_count": null,
   "id": "fiscal-charge",
   "metadata": {},
   "outputs": [],
   "source": [
    "# air 시각화\n",
    "style0 = {'fillColor': '#228B22', 'color': 'black', \"opacity\":\"0.3\", \"fillOpacity\":\"0\"}\n",
    "style1 = {'fillColor': '#228B22', 'color': 'blue', \"fillOpacity\":\"0\",\"opacity\":\"1\"}\n",
    "style2 = {'fillColor': '#00FFFFFF', 'color': 'red', \"fillOpacity\":\"0\",\"opacity\":\"1\"}\n",
    "style3 = {'fillColor': '#00FFFFFF', 'color': 'red', \"opacity\":\"0.5\"}\n",
    "m = folium.Map([37,127], zoom_start=7)\n",
    "\n",
    "# df_100_0.crs = \"epsg:4326\"\n",
    "df_plot.crs = \"epsg:4326\"\n",
    "df_plot_bus_geo.crs = \"epsg:4326\"\n",
    "df_500.crs = \"epsg:4326\"\n",
    "road_geo.crs = \"epsg:4326\"\n",
    "\n",
    "m = folium.Map(max_bounds = True,\n",
    "               zoom_start=12,\n",
    "               location=[37.277896,127.016544])\n",
    "\n",
    "\n",
    "\n",
    "# for idx in range(len(df_500)):\n",
    "#     folium.vector_layers.Polygon(\n",
    "#         locations = build_df.loc[idx, \"geometry\"]\n",
    "#     ).add_to(m)\n",
    "\n",
    "folium.GeoJson(\"./data/31.수원시_행정경계(읍면동).geojson\", name=\"geojson\", style_function = lambda x: style0).add_to(m)\n",
    "folium.GeoJson(data = df_plot.loc[:, \"geometry\"], style_function = lambda x:style1).add_to(m)\n",
    "folium.GeoJson(data = df_plot_bus_geo.loc[:, \"geometry\"], style_function = lambda x:style2).add_to(m)\n",
    "folium.GeoJson(data = road_geo.loc[:, \"geometry\"], style_function = lambda x:style3).add_to(m)\n",
    "m"
   ]
  },
  {
   "cell_type": "markdown",
   "id": "prompt-machine",
   "metadata": {},
   "source": [
    "## 최종 입지 결과"
   ]
  },
  {
   "cell_type": "code",
   "execution_count": null,
   "id": "dated-beach",
   "metadata": {},
   "outputs": [],
   "source": [
    "# 우선적으로 버스 정류장을 포함한 \n",
    "re_check = real_final_df[real_final_df[\"check_num\"] >= 22].sort_values(by = \"check_num\",\n",
    "                                                                      ascending = False).reset_index(drop = True)"
   ]
  },
  {
   "cell_type": "code",
   "execution_count": null,
   "id": "unavailable-breeding",
   "metadata": {},
   "outputs": [],
   "source": [
    "re_check_bus_out = re_check[re_check[\"정류장ID\"].isnull()].reset_index(drop = True)\n",
    "re_check_bus_in = re_check[re_check[\"정류장ID\"].notnull()].reset_index(drop = True)"
   ]
  },
  {
   "cell_type": "code",
   "execution_count": null,
   "id": "organized-patrick",
   "metadata": {},
   "outputs": [],
   "source": [
    "re_check_bus_out_head = re_check_bus_out.sort_values(by = [\"문화체육시설\", \"상업시설\", \"주거시설\", \"주차장수\"], ascending = False).head(12)"
   ]
  },
  {
   "cell_type": "code",
   "execution_count": null,
   "id": "drawn-patient",
   "metadata": {},
   "outputs": [],
   "source": [
    "re_final_df = pd.concat([re_check_bus_in, re_check_bus_out_head]).reset_index(drop = True)"
   ]
  },
  {
   "cell_type": "code",
   "execution_count": null,
   "id": "regulated-spencer",
   "metadata": {},
   "outputs": [],
   "source": [
    "re_check_bus_in_plot = re_check_bus_in[[\"gid\", \"bus_center\"]].rename({\"bus_center\":\"geometry\"}, axis = 1)\n",
    "re_check_bus_in_plot = gpd.GeoDataFrame(re_check_bus_in_plot)"
   ]
  },
  {
   "cell_type": "code",
   "execution_count": null,
   "id": "warming-spyware",
   "metadata": {},
   "outputs": [],
   "source": [
    "# air 시각화\n",
    "style0 = {'fillColor': '#228B22', 'color': 'black', \"opacity\":\"0.3\", \"fillOpacity\":\"0\"}\n",
    "style1 = {'fillColor': '#228B22', 'color': 'blue', \"fillOpacity\":\"0\",\"opacity\":\"1\"}\n",
    "style2 = {'fillColor': '#00FFFFFF', 'color': 'red', \"fillOpacity\":\"0\",\"opacity\":\"1\"}\n",
    "style3 = {'fillColor': '#00FFFFFF', 'color': 'red', \"opacity\":\"0.5\"}\n",
    "m = folium.Map([37,127], zoom_start=7)\n",
    "\n",
    "# df_100_0.crs = \"epsg:4326\"\n",
    "re_final_df.crs = \"epsg:4326\"\n",
    "re_check_bus_in_plot.crs = \"epsg:4326\"\n",
    "road_geo.crs = \"epsg:4326\"\n",
    "\n",
    "m = folium.Map(max_bounds = True,\n",
    "               zoom_start=12,\n",
    "               location=[37.277896,127.016544])\n",
    "\n",
    "\n",
    "\n",
    "# for idx in range(len(df_500)):\n",
    "#     folium.vector_layers.Polygon(\n",
    "#         locations = build_df.loc[idx, \"geometry\"]\n",
    "#     ).add_to(m)\n",
    "\n",
    "folium.GeoJson(\"./data/31.수원시_행정경계(읍면동).geojson\", name=\"geojson\", style_function = lambda x: style0).add_to(m)\n",
    "folium.GeoJson(data = re_final_df.loc[:, \"geometry\"], style_function = lambda x:style1).add_to(m)\n",
    "folium.GeoJson(data = re_check_bus_in_plot.loc[:, \"geometry\"], style_function = lambda x:style2).add_to(m)\n",
    "folium.GeoJson(data = road_geo.loc[:, \"geometry\"], style_function = lambda x:style3).add_to(m)\n",
    "m"
   ]
  },
  {
   "cell_type": "code",
   "execution_count": null,
   "id": "dimensional-alert",
   "metadata": {},
   "outputs": [],
   "source": [
    "re_final_df[\"r주거시설\"] = re_final_df[\"주거시설\"] / re_final_df[\"주거시설\"].max()\n",
    "\n",
    "def multipolygon_to_coordinates(x):\n",
    "    lon, lat = x[0].exterior.xy\n",
    "    return [[x, y] for x, y in zip(lon, lat)]\n",
    "\n",
    "re_final_df['coordinates'] = re_final_df['geometry'].apply(multipolygon_to_coordinates)\n",
    "# del df['geometry']"
   ]
  },
  {
   "cell_type": "code",
   "execution_count": null,
   "id": "together-basket",
   "metadata": {},
   "outputs": [],
   "source": [
    "# pydeck 시각화\n",
    "# Make layer\n",
    "layer1 = pdk.Layer( 'PolygonLayer', # 사용할 Layer 타입 \n",
    "                  re_final_df[[\"gid\", \"coordinates\"]], # 시각화에 쓰일 데이터프레임 \n",
    "                  get_polygon='coordinates', # geometry 정보를 담고있는 컬럼 이름 \n",
    "                  get_fill_color='[227, 255, 227, 80]', # 각 데이터 별 rgb 또는 rgba 값 (0~255)\n",
    "                  pickable=True, # 지도와 interactive 한 동작 on \n",
    "                  auto_highlight=True # 마우스 오버(hover) 시 박스 출력 \n",
    "                 ) \n",
    "\n",
    "layer2 = pdk.Layer( 'PolygonLayer', # 사용할 Layer 타입 \n",
    "                  re_final_df[[\"gid\", \"r주거시설\", \"coordinates\"]], # 시각화에 쓰일 데이터프레임 \n",
    "                  get_polygon='coordinates', # geometry 정보를 담고있는 컬럼 이름 \n",
    "                  get_fill_color='[255*r주거시설,200,227, 1000*r주거시설]', # 각 데이터 별 rgb 또는 rgba 값 (0~255)\n",
    "                  pickable=True, # 지도와 interactive 한 동작 on \n",
    "                  auto_highlight=True # 마우스 오버(hover) 시 박스 출력 \n",
    "                 ) \n",
    "\n",
    "# Set the viewport location \n",
    "center = [127.016544,37.277896] # 오산시 중심\n",
    "view_state = pdk.ViewState( \n",
    "    longitude=center[0], \n",
    "    latitude=center[1], \n",
    "    zoom=11\n",
    ") \n",
    "\n",
    "# Render \n",
    "r = pdk.Deck(layers=[layer1, layer2], initial_view_state=view_state,\n",
    "             mapbox_key = \"pk.eyJ1IjoiamNsYXJhODExIiwiYSI6ImNrZzF4bWNhdTBpNnEydG54dGpxNDEwajAifQ.XWxOKQ-2HqFBVBYa-XoS-g\"\n",
    "            )\n",
    "\n",
    "r.to_html()"
   ]
  },
  {
   "cell_type": "code",
   "execution_count": null,
   "id": "robust-phrase",
   "metadata": {},
   "outputs": [],
   "source": [
    "re_final_df.to_csv(\"./data/bus_30.csv\", index = False)"
   ]
  }
 ],
 "metadata": {
  "kernelspec": {
   "display_name": "Python 3",
   "language": "python",
   "name": "python3"
  },
  "language_info": {
   "codemirror_mode": {
    "name": "ipython",
    "version": 3
   },
   "file_extension": ".py",
   "mimetype": "text/x-python",
   "name": "python",
   "nbconvert_exporter": "python",
   "pygments_lexer": "ipython3",
   "version": "3.7.9"
  }
 },
 "nbformat": 4,
 "nbformat_minor": 5
}
