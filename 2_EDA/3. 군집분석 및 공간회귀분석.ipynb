{
 "cells": [
  {
   "cell_type": "markdown",
   "id": "great-vampire",
   "metadata": {},
   "source": [
    "# 패키지 설치"
   ]
  },
  {
   "cell_type": "code",
   "execution_count": null,
   "id": "mature-cotton",
   "metadata": {},
   "outputs": [],
   "source": [
    "import copy\n",
    "import pathlib\n",
    "import random\n",
    "from functools import reduce\n",
    "from collections import defaultdict\n",
    "import json\n",
    "import pandas as pd\n",
    "import numpy as np\n",
    "from numpy import random\n",
    "\n",
    "import matplotlib.pyplot as plt\n",
    "import seaborn as sns\n",
    "\n",
    "# 공간연산한 결과 데이터 표현하기 위한 패키지 \n",
    "import folium\n",
    "from folium import plugins\n",
    "import shapely\n",
    "from shapely.geometry import Point, Polygon, LineString\n",
    "import geopandas as gpd\n",
    "from IPython.display import display\n",
    "from tqdm.notebook import tqdm\n",
    "import sklearn.cluster\n",
    "from geoband import API # API 부르기 \n",
    "import pydeck as pdk\n",
    "import os\n",
    "from tqdm import notebook\n",
    "import tqdm\n",
    "\n",
    "import cufflinks as cf \n",
    "cf.go_offline(connected=True)\n",
    "cf.set_config_file(theme='polar')\n",
    "pd.set_option('display.max_columns', 500)\n",
    "pd.set_option('display.width', 1000)\n",
    "\n",
    "# 경고 무시\n",
    "import warnings\n",
    "warnings.filterwarnings('ignore')\n",
    "\n",
    "import matplotlib.pyplot as plt\n",
    "from matplotlib import font_manager, rc\n",
    "font_name = font_manager.FontProperties(fname=\"./data/NanumGothic-Regular.ttf\").get_name()\n",
    "rc('font', family=font_name)\n",
    "\n",
    "from shapely.geometry import Polygon, Point\n",
    "from numpy import random\n",
    "\n",
    "#최적화 solver\n",
    "import time\n",
    "from mip import Model, xsum, maximize, BINARY  \n",
    "\n",
    "import matplotlib.pyplot as plt\n",
    "import seaborn as sns\n",
    "import warnings\n",
    "\n",
    "import statsmodels.api as sm\n",
    "from statsmodels.sandbox.regression.predstd import wls_prediction_std\n",
    "from sklearn.model_selection import train_test_split\n",
    "import pysal\n",
    "import libpysal\n",
    "from libpysal.weights import Queen, Rook, KNN, DistanceBand, Kernel\n",
    "from esda.getisord import G\n",
    "from esda.moran import Moran\n",
    "from spreg import OLS, ML_Lag, ML_Error, GM_Lag, GM_Error, TSLS\n",
    "\n",
    "warnings.filterwarnings(\"ignore\")\n",
    "%matplotlib inline"
   ]
  },
  {
   "cell_type": "code",
   "execution_count": 2,
   "id": "threaded-danger",
   "metadata": {},
   "outputs": [
    {
     "name": "stderr",
     "output_type": "stream",
     "text": [
      "100%|██████████| 32/32 [03:11<00:00,  5.98s/it]\n"
     ]
    }
   ],
   "source": [
    "# 노트북에서 만든 data_list load\n",
    "file_df = pd.read_csv(\"./data/data_list.csv\")\n",
    "\n",
    "# order_num type change int to str\n",
    "file_df[\"order_num\"] = file_df[\"order_num\"].apply(lambda x: str(x))\n",
    "\n",
    "# 동적변수 데이터 할당\n",
    "for idx in tqdm.tqdm(range(len(file_df) - 2)):\n",
    "#     print(idx)\n",
    "    file_name = \".\".join(file_df.iloc[idx, :])\n",
    "    globals()[f\"df_{idx + 1}\"] = gpd.read_file(\"./data/\" + file_name)"
   ]
  },
  {
   "cell_type": "markdown",
   "id": "affecting-blond",
   "metadata": {},
   "source": [
    "# TOD 분석"
   ]
  },
  {
   "cell_type": "code",
   "execution_count": null,
   "id": "exciting-denver",
   "metadata": {},
   "outputs": [],
   "source": [
    "# 노선수 구하기\n",
    "df_lst = [df_2, df_3, df_4, df_5, df_6]\n",
    "df = pd.concat(df_lst)\n",
    "df_route = df.groupby([\"정류소ID\", \"노선번호\"])[\"전체 승차 건수\"].agg(\"sum\").reset_index()\n",
    "df_route_count = df_route.groupby(\"정류소ID\")[\"노선번호\"].agg(\"count\").reset_index()\n",
    "df_route_count.rename({\"정류소ID\":\"정류장ID\", \"노선번호\":\"노선수\"}, axis = 1, inplace=True)\n",
    "df_route_count[\"정류장ID\"] = df_route_count[\"정류장ID\"].astype(\"int\")"
   ]
  },
  {
   "cell_type": "code",
   "execution_count": 4,
   "id": "needed-shoot",
   "metadata": {},
   "outputs": [],
   "source": [
    "build_df = gpd.GeoDataFrame(pd.read_csv(\"./data/build_df.csv\"))\n",
    "bus_buffer = gpd.GeoDataFrame(pd.read_csv(\"./data/bus_buffer.csv\"))\n",
    "bus_point = gpd.GeoDataFrame(pd.read_csv(\"./data/bus_point.csv\"))\n",
    "df_100 = gpd.GeoDataFrame(pd.read_csv(\"./data/df_100.csv\"))\n",
    "df_500 = gpd.GeoDataFrame(pd.read_csv(\"./data/df_500.csv\"))\n",
    "build_polygon = gpd.GeoDataFrame(pd.read_csv(\"./data/500_build_polygon.csv\"))\n",
    "df_100_to_500 = gpd.GeoDataFrame(pd.read_csv(\"./data/df_100_to_500.csv\"))"
   ]
  },
  {
   "cell_type": "code",
   "execution_count": 5,
   "id": "large-grocery",
   "metadata": {},
   "outputs": [],
   "source": [
    "def str_to_geo(x):\n",
    "    a = shapely.wkt.loads(x)\n",
    "    return a\n",
    "\n",
    "build_df[\"geometry\"] = build_df[\"geometry\"].apply(lambda x: str_to_geo(x))\n",
    "build_df[\"center\"] = build_df[\"center\"].apply(lambda x: str_to_geo(x))\n",
    "bus_buffer[\"geometry\"] = bus_buffer[\"geometry\"].apply(lambda x: str_to_geo(x))\n",
    "bus_point[\"geometry\"] = bus_point[\"geometry\"].apply(lambda x: str_to_geo(x))\n",
    "df_100[\"geometry\"] = df_100[\"geometry\"].apply(lambda x: str_to_geo(x))\n",
    "df_100[\"gid_center\"] = df_100[\"gid_center\"].apply(lambda x: str_to_geo(x))\n",
    "build_polygon[\"geometry\"] = build_polygon[\"geometry\"].apply(lambda x: str_to_geo(x))"
   ]
  },
  {
   "cell_type": "markdown",
   "id": "stunning-discovery",
   "metadata": {},
   "source": [
    "승차건수가 0인 정류장ID drop"
   ]
  },
  {
   "cell_type": "markdown",
   "id": "champion-excerpt",
   "metadata": {},
   "source": [
    "- df_500"
   ]
  },
  {
   "cell_type": "code",
   "execution_count": 6,
   "id": "floating-demographic",
   "metadata": {},
   "outputs": [],
   "source": [
    "drop_index = df_500[df_500[\"전체 승차 건수\"] == 0][\"정류장ID\"].index.values\n",
    "df_500 = df_500.drop(drop_index).reset_index(drop = True)\n",
    "\n",
    "drop_index = df_500[df_500[\"전체 승차 건수\"] == 0].index.values\n",
    "df_500.drop(drop_index, inplace = True)\n",
    "df_500.reset_index(drop = True, inplace = True)\n",
    "\n",
    "df_500 = pd.merge(df_500, df_route_count, on = \"정류장ID\")"
   ]
  },
  {
   "cell_type": "code",
   "execution_count": 7,
   "id": "exempt-loading",
   "metadata": {},
   "outputs": [],
   "source": [
    "# geometry poin 생성\n",
    "geo = gpd.points_from_xy(df_500.lon, df_500.lat)\n",
    "df_500[\"geometry\"] = geo\n",
    "\n",
    "# 결측치 채우기\n",
    "df_500 = df_500.fillna(value=0)\n",
    "df_100 = df_100.fillna(0)\n",
    "df_100_to_500 = df_100_to_500.fillna(0)"
   ]
  },
  {
   "cell_type": "code",
   "execution_count": 8,
   "id": "powered-underground",
   "metadata": {},
   "outputs": [],
   "source": [
    "# y변수\n",
    "df_500_eda = df_500.loc[:, [\"정류장ID\",\"전체 승차 건수\", \"초승 건수\", \"환승 건수\", \"전체 하차 건수\", \"노선수\"]]\n",
    "cols = df_500_eda.iloc[:, 1:-1].columns.values"
   ]
  },
  {
   "cell_type": "code",
   "execution_count": 9,
   "id": "cardiovascular-disclosure",
   "metadata": {},
   "outputs": [],
   "source": [
    "coor_1m = (1/88.74/1000)\n",
    "crit_area = df_500[\"geometry\"][0].buffer(coor_1m * 500).area"
   ]
  },
  {
   "cell_type": "code",
   "execution_count": 10,
   "id": "requested-lightweight",
   "metadata": {},
   "outputs": [],
   "source": [
    "build_col = df_100_to_500.iloc[:, -8:].columns.values"
   ]
  },
  {
   "cell_type": "code",
   "execution_count": 11,
   "id": "serious-contrary",
   "metadata": {},
   "outputs": [],
   "source": [
    "# 밀도 변수 crit_area 나누기\n",
    "# 실제 폴리곤 내 밀도 구하기\n",
    "def division_build(df, build_col, crit_area):\n",
    "    for col in build_col:\n",
    "        df[col] = df[col] / crit_area\n",
    "        \n",
    "build_lst = [df_100, df_500, df_100_to_500]\n",
    "for df in build_lst:\n",
    "    division_build(df, build_col, crit_area)"
   ]
  },
  {
   "cell_type": "code",
   "execution_count": 12,
   "id": "civic-aaron",
   "metadata": {},
   "outputs": [],
   "source": [
    "# 승하차건수 변수\n",
    "df_500[\"승하차건수\"] = df_500[\"전체 승차 건수\"] + df_500[\"전체 하차 건수\"]"
   ]
  },
  {
   "cell_type": "code",
   "execution_count": 13,
   "id": "ethical-commercial",
   "metadata": {},
   "outputs": [],
   "source": [
    "# 총 인구\n",
    "df_500[\"population\"] = df_500[\"old\"] + df_500[\"worker\"] + df_500[\"youth\"]\n",
    "df_100[\"population\"] = df_100[\"old\"] + df_100[\"worker\"] + df_100[\"youth\"]\n",
    "df_100_to_500[\"population\"] = df_100_to_500[\"old\"] + df_100_to_500[\"worker\"] + df_100_to_500[\"youth\"]"
   ]
  },
  {
   "cell_type": "code",
   "execution_count": 14,
   "id": "activated-foundation",
   "metadata": {},
   "outputs": [],
   "source": [
    "# 직주비\n",
    "df_500[\"직주비\"] = df_500[\"worker\"] / df_500[\"population\"]\n",
    "df_100[\"직주비\"] = df_100[\"worker\"] / df_100[\"population\"]\n",
    "df_100_to_500[\"직주비\"] = df_100_to_500[\"worker\"] / df_100_to_500[\"population\"]"
   ]
  },
  {
   "cell_type": "code",
   "execution_count": 15,
   "id": "japanese-payment",
   "metadata": {},
   "outputs": [],
   "source": [
    "# 결측치 채우기\n",
    "df_500.fillna(0, inplace = True)\n",
    "df_100.fillna(0, inplace = True)\n",
    "df_100_to_500.fillna(0, inplace = True)"
   ]
  },
  {
   "cell_type": "code",
   "execution_count": 16,
   "id": "norman-tuning",
   "metadata": {},
   "outputs": [],
   "source": [
    "# x 변수 추출\n",
    "col_1 = df_500.iloc[:, 21:34].columns.values\n",
    "col_2 = df_500.iloc[:, -8:].drop(\"노선수\", axis = 1).columns.values\n",
    "x_col = np.concatenate([col_1, col_2])\n",
    "x_col = np.delete(x_col, np.where(x_col == \"승하차건수\"))\n",
    "\n",
    "# y변수\n",
    "y_col = [\"전체 승차 건수\", \"초승 건수\", \"환승 건수\", \"전체 하차 건수\", \"승하차건수\"]"
   ]
  },
  {
   "cell_type": "markdown",
   "id": "biblical-romania",
   "metadata": {},
   "source": [
    "정규화 log1p"
   ]
  },
  {
   "cell_type": "code",
   "execution_count": 17,
   "id": "attended-sydney",
   "metadata": {},
   "outputs": [],
   "source": [
    "for df in build_lst:\n",
    "    df[x_col] = np.log1p(df[x_col])\n",
    "    \n",
    "# y 정규화\n",
    "df_500[y_col] = np.log1p(df_500[y_col])\n",
    "df_500[x_col] = np.log1p(df_500[x_col])\n",
    "df_100[x_col] = np.log1p(df_100[x_col])\n",
    "df_100_to_500[x_col] = np.log1p(df_100_to_500[x_col])"
   ]
  },
  {
   "cell_type": "code",
   "execution_count": 18,
   "id": "labeled-modification",
   "metadata": {},
   "outputs": [],
   "source": [
    "df_500_eda = copy.deepcopy(df_500[y_col])"
   ]
  },
  {
   "cell_type": "markdown",
   "id": "naked-orange",
   "metadata": {},
   "source": [
    "# 군집분석"
   ]
  },
  {
   "cell_type": "code",
   "execution_count": 5,
   "id": "impressed-suite",
   "metadata": {},
   "outputs": [],
   "source": [
    "from sklearn.cluster import KMeans, DBSCAN\n",
    "from sklearn.metrics import silhouette_samples, silhouette_score"
   ]
  },
  {
   "cell_type": "code",
   "execution_count": 20,
   "id": "developmental-utilization",
   "metadata": {},
   "outputs": [
    {
     "data": {
      "text/plain": [
       " 0    1085\n",
       " 1      18\n",
       "-1      11\n",
       "Name: label, dtype: int64"
      ]
     },
     "execution_count": 20,
     "metadata": {},
     "output_type": "execute_result"
    }
   ],
   "source": [
    "# 밀도 기반 클러스터링\n",
    "dbscan = DBSCAN(eps = 0.8, min_samples=8, metric=\"euclidean\")\n",
    "dbscan_labels = dbscan.fit_predict(df_500[x_col])\n",
    "\n",
    "df_500[\"label\"] = dbscan_labels\n",
    "df_500[\"label\"].value_counts()"
   ]
  },
  {
   "cell_type": "code",
   "execution_count": null,
   "id": "fitting-impossible",
   "metadata": {},
   "outputs": [],
   "source": [
    "# 군집분석 실루엣계수\n",
    "def score_plot(df, col):\n",
    "    score_lst = []\n",
    "    for i in range(2, 6):\n",
    "        kmeans = KMeans(n_clusters=i, init=\"k-means++\", max_iter=300)\n",
    "        kmeans.fit(df[col])\n",
    "        df[\"label\"] = kmeans.labels_\n",
    "\n",
    "        score_samples = silhouette_samples(df[col], df[\"label\"])\n",
    "        df[\"silhouette_coeff\"] = score_samples\n",
    "\n",
    "        # 모든 데이터의 평균 실루엣 계수 값을 구함.\n",
    "        average_score = silhouette_score(df[col], df[\"label\"])\n",
    "        score_lst.append(average_score)\n",
    "        print(df[\"label\"].value_counts())\n",
    "        print(\"평균 실루엣 값 : %f\" % (average_score))\n",
    "    sns.lineplot(x = range(2, 6), y = score_lst, markers=True)\n",
    "    plt.xlabel(\"군집 수\")\n",
    "    plt.ylabel(\"실루엣 계수\")\n",
    "    plt.ylim(0,1)\n",
    "    plt.grid(True, axis = \"y\", alpha = 0.5, linestyle = \"--\")\n",
    "    \n",
    "score_plot(df_500, x_col)"
   ]
  },
  {
   "cell_type": "code",
   "execution_count": 22,
   "id": "rational-seminar",
   "metadata": {},
   "outputs": [],
   "source": [
    "# 실루엣계수가 높은 2로 설정\n",
    "kmeans = KMeans(n_clusters=2, init=\"k-means++\", max_iter=300)\n",
    "kmeans.fit(df_500[x_col])\n",
    "df_500[\"label\"] = kmeans.labels_\n",
    "\n",
    "# 각 cluster에 속하는 index 추출\n",
    "idx_0 = df_500[df_500[\"label\"] == 0].index.values\n",
    "idx_1 = df_500[df_500[\"label\"] == 1].index.values\n",
    "\n",
    "# 각 cluster별 df indexing\n",
    "df_500_0 = copy.deepcopy(df_500.iloc[idx_0, :].reset_index(drop = True))\n",
    "df_500_1 = copy.deepcopy(df_500.iloc[idx_1, :].reset_index(drop = True))"
   ]
  },
  {
   "cell_type": "code",
   "execution_count": null,
   "id": "formal-advocate",
   "metadata": {},
   "outputs": [],
   "source": [
    "# 군집별 통계적 차이 검증\n",
    "from scipy import stats\n",
    "\n",
    "col_lst = []\n",
    "for col in x_col:\n",
    "    from scipy import stats\n",
    "    stats, pvalue = stats.ttest_ind(df_500_0[col], df_500_1[col])\n",
    "    if pvalue <= 0.05:\n",
    "        print(f\"{col}는 통계적으로 유의미한 차이가 있다.\")\n",
    "        col_lst.append(col)\n",
    "        \n",
    "for col in y_col:\n",
    "    from scipy import stats\n",
    "    stats, pvalue = stats.ttest_ind(df_500_0[col], df_500_1[col])\n",
    "    if pvalue <= 0.05:\n",
    "        print(f\"{col}는 통계적으로 유의미한 차이가 있다.\")\n",
    "        col_lst.append(col)"
   ]
  },
  {
   "cell_type": "code",
   "execution_count": 24,
   "id": "dangerous-notion",
   "metadata": {},
   "outputs": [],
   "source": [
    "# 1클러스터는 대부분의 변수에서 높은 값을 보였다.\n",
    "# 공업시설이 많은 곳은 인구수가 적어 승하차건수가 작다."
   ]
  },
  {
   "cell_type": "code",
   "execution_count": 25,
   "id": "written-approach",
   "metadata": {},
   "outputs": [
    {
     "name": "stdout",
     "output_type": "stream",
     "text": [
      "공공시설은 통계적으로 유의미한 차이가 없다\n",
      "공업시설은 통계적으로 유의미한 차이가 없다\n"
     ]
    }
   ],
   "source": [
    "# 유의한 차이가 없는 변수 확인\n",
    "for col in x_col:\n",
    "    if col not in col_lst:\n",
    "        print(f\"{col}은 통계적으로 유의미한 차이가 없다\")\n",
    "        \n",
    "for col in y_col:\n",
    "    if col not in col_lst:\n",
    "        print(f\"{col}은 통계적으로 유의미한 차이가 없다\")"
   ]
  },
  {
   "cell_type": "code",
   "execution_count": null,
   "id": "documented-improvement",
   "metadata": {},
   "outputs": [],
   "source": [
    "# 각 군집 변수 별 평균 차이 그래프\n",
    "plt.figure(figsize = (8, 5))\n",
    "\n",
    "\n",
    "sns.lineplot(x = df_500_0[x_col].describe().loc[\"mean\", :\"업무시설\"].index,\n",
    "            y = df_500_0[x_col].describe().loc[\"mean\", :\"업무시설\"].values, color = \"red\", label = \"0번 군집\")\n",
    "sns.lineplot(x = df_500_1[x_col].describe().loc[\"mean\", :\"업무시설\"].index,\n",
    "            y = df_500_1[x_col].describe().loc[\"mean\", :\"업무시설\"].values, color = \"blue\", label = \"1번 군집\")\n",
    "plt.grid(True, axis = \"y\", alpha = 0.5, linestyle = \"--\")\n",
    "plt.xlabel(\"변수\")\n",
    "plt.ylabel(\"평균 값\")"
   ]
  },
  {
   "cell_type": "code",
   "execution_count": null,
   "id": "supposed-grill",
   "metadata": {},
   "outputs": [],
   "source": [
    "# 각 군집 변수 별 평균 차이 그래프\n",
    "plt.figure(figsize = (8, 5))\n",
    "\n",
    "sns.lineplot(x = df_500_0[x_col].describe().loc[\"mean\", \"업무시설\":].index,\n",
    "            y = df_500_0[x_col].describe().loc[\"mean\", \"업무시설\":].values, color = \"red\", label = \"0번 군집\")\n",
    "sns.lineplot(x = df_500_1[x_col].describe().loc[\"mean\", \"업무시설\":].index,\n",
    "            y = df_500_1[x_col].describe().loc[\"mean\", \"업무시설\":].values, color = \"blue\", label = \"1번 군집\")\n",
    "plt.grid(True, axis = \"y\", alpha = 0.5, linestyle = \"--\")\n",
    "\n",
    "plt.xlabel(\"변수\",)\n",
    "plt.xticks(rotation = 45)\n",
    "plt.ylabel(\"평균 값\")"
   ]
  },
  {
   "cell_type": "code",
   "execution_count": null,
   "id": "atomic-producer",
   "metadata": {},
   "outputs": [],
   "source": [
    "# 상관분석\n",
    "plt.figure(figsize = (10,5))\n",
    "sns.heatmap(df_500[x_col].corr(), annot=True)\n",
    "plt.xticks(rotation = 90)\n",
    "plt.yticks(rotation = 45)"
   ]
  },
  {
   "cell_type": "code",
   "execution_count": null,
   "id": "endless-satellite",
   "metadata": {},
   "outputs": [],
   "source": [
    "# kmean clustering gid 격자 \n",
    "score_plot(df_100, x_col)"
   ]
  },
  {
   "cell_type": "code",
   "execution_count": 30,
   "id": "transsexual-patch",
   "metadata": {},
   "outputs": [],
   "source": [
    "# kmeans = KMeans(n_clusters=2, init=\"k-means++\", max_iter=300)\n",
    "label = kmeans.fit_predict(df_100[x_col])\n",
    "df_100[\"label\"] = label"
   ]
  },
  {
   "cell_type": "code",
   "execution_count": null,
   "id": "sudden-partnership",
   "metadata": {},
   "outputs": [],
   "source": [
    "# 각 cluster에 속하는 index 추출\n",
    "idx_0 = df_100[df_100[\"label\"] == 0].index.values\n",
    "idx_1 = df_100[df_100[\"label\"] == 1].index.values\n",
    "\n",
    "# 각 cluster별 df indexing\n",
    "df_100_0 = copy.deepcopy(df_100.iloc[idx_0, :].reset_index(drop = True))\n",
    "df_100_1 = copy.deepcopy(df_100.iloc[idx_1, :].reset_index(drop = True))\n",
    "\n",
    "# 군집별 통계적 차이 검증\n",
    "from scipy import stats\n",
    "\n",
    "col_lst = []\n",
    "for col in x_col:\n",
    "    from scipy import stats\n",
    "    stats, pvalue = stats.ttest_ind(df_100_0[col], df_100_1[col])\n",
    "    if pvalue <= 0.05:\n",
    "        print(f\"{col}는 통계적으로 유의미한 차이가 있다.\")\n",
    "        col_lst.append(col)"
   ]
  },
  {
   "cell_type": "code",
   "execution_count": 32,
   "id": "together-stevens",
   "metadata": {},
   "outputs": [
    {
     "name": "stdout",
     "output_type": "stream",
     "text": [
      "공공시설\n",
      "교육연구시설\n",
      "문화체육시설\n"
     ]
    }
   ],
   "source": [
    "# 공업시설과 지하철역수를 제외한 나머지 변수들에서 0군집이 높은 평균값을 가졌다\n",
    "for col in x_col:\n",
    "    if col not in col_lst:\n",
    "        print(col)"
   ]
  },
  {
   "cell_type": "code",
   "execution_count": null,
   "id": "short-arthritis",
   "metadata": {},
   "outputs": [],
   "source": [
    "plt.figure(figsize = (8, 5))\n",
    "\n",
    "\n",
    "sns.lineplot(x = df_100_0[col_lst].describe().loc[\"mean\", :\"업무시설\"].index,\n",
    "            y = df_100_0[col_lst].describe().loc[\"mean\", :\"업무시설\"].values, color = \"red\", label = \"0번 군집\")\n",
    "sns.lineplot(x = df_100_1[col_lst].describe().loc[\"mean\", :\"업무시설\"].index,\n",
    "            y = df_100_1[col_lst].describe().loc[\"mean\", :\"업무시설\"].values, color = \"blue\", label = \"1번 군집\")\n",
    "plt.grid(True, axis = \"y\", alpha = 0.5, linestyle = \"--\")\n",
    "plt.xlabel(\"변수\")\n",
    "plt.ylabel(\"평균 값\")"
   ]
  },
  {
   "cell_type": "code",
   "execution_count": null,
   "id": "friendly-batman",
   "metadata": {},
   "outputs": [],
   "source": [
    "plt.figure(figsize = (8, 5))\n",
    "\n",
    "\n",
    "sns.lineplot(x = df_100_0[col_lst].describe().loc[\"mean\", \"업무시설\":].index,\n",
    "            y = df_100_0[col_lst].describe().loc[\"mean\", \"업무시설\":].values, color = \"red\", label = \"0번 군집\")\n",
    "sns.lineplot(x = df_100_1[col_lst].describe().loc[\"mean\", \"업무시설\":].index,\n",
    "            y = df_100_1[col_lst].describe().loc[\"mean\", \"업무시설\":].values, color = \"blue\", label = \"1번 군집\")\n",
    "plt.grid(True, axis = \"y\", alpha = 0.5, linestyle = \"--\")\n",
    "\n",
    "plt.xlabel(\"변수\",)\n",
    "plt.xticks(rotation = 45)\n",
    "plt.ylabel(\"평균 값\")"
   ]
  },
  {
   "cell_type": "markdown",
   "id": "amazing-bankruptcy",
   "metadata": {},
   "source": [
    "# 군집분석 시각화"
   ]
  },
  {
   "cell_type": "code",
   "execution_count": null,
   "id": "qualified-enclosure",
   "metadata": {},
   "outputs": [],
   "source": [
    "# 수원시 군집 지도 시각화\n",
    "style0 = {'fillColor': '#228B22', 'color': 'black', \"opacity\":\"0.3\", \"fillOpacity\":\"0\"}\n",
    "style1 = {'fillColor': '#228B22', 'color': 'blue', \"fillOpacity\":\"0\",\"opacity\":\"0.3\"}\n",
    "style2 = {'fillColor': '#00FFFFFF', 'color': 'red', \"fillOpacity\":\"0\",\"opacity\":\"0.3\"}\n",
    "style3 = {'fillColor': '#00FFFFFF', 'color': 'red', \"opacity\":\"0.5\"}\n",
    "m = folium.Map([37,127], zoom_start=7)\n",
    "\n",
    "df_100_0.crs = \"epsg:4326\"\n",
    "df_100_1.crs = \"epsg:4326\"\n",
    "# df_500_0.crs = \"epsg:4326\"\n",
    "# bus_buffer.to_crs = {'init' :'epsg:4326'}\n",
    "\n",
    "m = folium.Map(max_bounds = True,\n",
    "               zoom_start=12,\n",
    "               location=[37.277896,127.016544])\n",
    "\n",
    "\n",
    "\n",
    "# for idx in range(len(df_500)):\n",
    "#     folium.vector_layers.Polygon(\n",
    "#         locations = build_df.loc[idx, \"geometry\"]\n",
    "#     ).add_to(m)\n",
    "\n",
    "folium.GeoJson(\"./data/31.수원시_행정경계(읍면동).geojson\", name=\"geojson\", style_function = lambda x: style0).add_to(m)\n",
    "folium.GeoJson(data = df_100_0.loc[:, \"geometry\"], style_function = lambda x:style1).add_to(m)\n",
    "folium.GeoJson(data = df_100_1.loc[:, \"geometry\"], style_function = lambda x:style2).add_to(m)\n",
    "m"
   ]
  },
  {
   "cell_type": "code",
   "execution_count": null,
   "id": "critical-season",
   "metadata": {},
   "outputs": [],
   "source": [
    "# 수원시 지도 시각화 df_100_0 값이 적은것\n",
    "style0 = {'fillColor': '#228B22', 'color': 'black', \"opacity\":\"0.3\", \"fillOpacity\":\"0\"}\n",
    "style1 = {'fillColor': '#228B22', 'color': 'blue', \"fillOpacity\":\"0\",\"opacity\":\"0.3\"}\n",
    "style2 = {'fillColor': '#00FFFFFF', 'color': 'red', \"fillOpacity\":\"0\",\"opacity\":\"0.3\"}\n",
    "style3 = {'fillColor': '#00FFFFFF', 'color': 'red', \"opacity\":\"0.5\"}\n",
    "m = folium.Map([37,127], zoom_start=7)\n",
    "\n",
    "df_100_0.crs = \"epsg:4326\"\n",
    "df_100_1.crs = \"epsg:4326\"\n",
    "df_500_0.crs = \"epsg:4326\"\n",
    "# bus_buffer.to_crs = {'init' :'epsg:4326'}\n",
    "\n",
    "m = folium.Map(max_bounds = True,\n",
    "               zoom_start=12,\n",
    "               location=[37.277896,127.016544])\n",
    "\n",
    "\n",
    "\n",
    "# for idx in range(len(df_500)):\n",
    "#     folium.vector_layers.Polygon(\n",
    "#         locations = build_df.loc[idx, \"geometry\"]\n",
    "#     ).add_to(m)\n",
    "\n",
    "folium.GeoJson(\"./data/31.수원시_행정경계(읍면동).geojson\", name=\"geojson\", style_function = lambda x: style0).add_to(m)\n",
    "folium.GeoJson(data = df_100_0.loc[:, \"geometry\"], style_function = lambda x:style1).add_to(m)\n",
    "folium.GeoJson(data = df_500_0.loc[:, \"geometry\"], style_function = lambda x:style1).add_to(m)\n",
    "# folium.GeoJson(data = df_100_1.loc[:, \"geometry\"], style_function = lambda x:style2).add_to(m)\n",
    "m"
   ]
  },
  {
   "cell_type": "code",
   "execution_count": null,
   "id": "expected-manchester",
   "metadata": {},
   "outputs": [],
   "source": [
    "# 수원시 지도 시각화 df_100_1 값 높은 거\n",
    "style0 = {'fillColor': '#228B22', 'color': 'black', \"opacity\":\"0.3\", \"fillOpacity\":\"0\"}\n",
    "style1 = {'fillColor': '#228B22', 'color': 'blue', \"fillOpacity\":\"0\",\"opacity\":\"0.3\"}\n",
    "style2 = {'fillColor': '#00FFFFFF', 'color': 'red', \"fillOpacity\":\"0\",\"opacity\":\"0.3\"}\n",
    "style3 = {'fillColor': '#00FFFFFF', 'color': 'red', \"opacity\":\"0.5\"}\n",
    "m = folium.Map([37,127], zoom_start=7)\n",
    "\n",
    "df_100_0.crs = \"epsg:4326\"\n",
    "df_100_1.crs = \"epsg:4326\"\n",
    "df_500_1.crs = \"epsg:4326\"\n",
    "# bus_buffer.to_crs = {'init' :'epsg:4326'}\n",
    "\n",
    "m = folium.Map(max_bounds = True,\n",
    "               zoom_start=12,\n",
    "               location=[37.277896,127.016544])\n",
    "\n",
    "\n",
    "\n",
    "# for idx in range(len(df_500)):\n",
    "#     folium.vector_layers.Polygon(\n",
    "#         locations = build_df.loc[idx, \"geometry\"]\n",
    "#     ).add_to(m)\n",
    "\n",
    "folium.GeoJson(\"./data/31.수원시_행정경계(읍면동).geojson\", name=\"geojson\", style_function = lambda x: style0).add_to(m)\n",
    "# folium.GeoJson(data = df_100_0.loc[:, \"geometry\"], style_function = lambda x:style1).add_to(m)\n",
    "folium.GeoJson(data = df_100_1.loc[:, \"geometry\"], style_function = lambda x:style2).add_to(m)\n",
    "folium.GeoJson(data = df_500_1.loc[:, \"geometry\"], style_function = lambda x:style2).add_to(m)\n",
    "m"
   ]
  },
  {
   "cell_type": "code",
   "execution_count": null,
   "id": "juvenile-horizontal",
   "metadata": {},
   "outputs": [],
   "source": [
    "# df_100_to_500\n",
    "df_100_to_500.fillna(0, inplace =True)\n",
    "score_plot(df_100_to_500, x_col)"
   ]
  },
  {
   "cell_type": "code",
   "execution_count": null,
   "id": "occupational-feature",
   "metadata": {},
   "outputs": [],
   "source": [
    "label = kmeans.fit_predict(df_100_to_500[x_col])\n",
    "df_100_to_500[\"label\"] = label\n",
    "# 각 cluster에 속하는 index 추출\n",
    "idx_0 = df_100_to_500[df_100_to_500[\"label\"] == 0].index.values\n",
    "idx_1 = df_100_to_500[df_100_to_500[\"label\"] == 1].index.values\n",
    "\n",
    "# 각 cluster별 df indexing\n",
    "df_100_to_500_0 = copy.deepcopy(df_100_to_500.iloc[idx_0, :].reset_index(drop = True))\n",
    "df_100_to_500_1 = copy.deepcopy(df_100_to_500.iloc[idx_1, :].reset_index(drop = True))\n",
    "\n",
    "# 군집별 통계적 차이 검증\n",
    "from scipy import stats\n",
    "\n",
    "col_lst = []\n",
    "for col in x_col:\n",
    "    from scipy import stats\n",
    "    stats, pvalue = stats.ttest_ind(df_100_to_500_0[col], df_100_to_500_1[col])\n",
    "    if pvalue <= 0.05:\n",
    "        print(f\"{col}는 통계적으로 유의미한 차이가 있다.\")\n",
    "        col_lst.append(col)"
   ]
  },
  {
   "cell_type": "code",
   "execution_count": 40,
   "id": "laughing-parade",
   "metadata": {},
   "outputs": [],
   "source": [
    "# distance\n",
    "for col in x_col:\n",
    "    if col not in col_lst:\n",
    "        print(f\"{col}은 통계적으로 유의미한 차이가 없다\")"
   ]
  },
  {
   "cell_type": "code",
   "execution_count": null,
   "id": "productive-textbook",
   "metadata": {},
   "outputs": [],
   "source": [
    "plt.figure(figsize = (8, 5))\n",
    "\n",
    "\n",
    "sns.lineplot(x = df_100_to_500_0[col_lst].describe().loc[\"mean\", :\"업무시설\"].index,\n",
    "            y = df_100_to_500_0[col_lst].describe().loc[\"mean\", :\"업무시설\"].values, color = \"red\", label = \"0번 군집\")\n",
    "sns.lineplot(x = df_100_to_500_1[col_lst].describe().loc[\"mean\", :\"업무시설\"].index,\n",
    "            y = df_100_to_500_1[col_lst].describe().loc[\"mean\", :\"업무시설\"].values, color = \"blue\", label = \"1번 군집\")\n",
    "plt.grid(True, axis = \"y\", alpha = 0.5, linestyle = \"--\")\n",
    "plt.xlabel(\"변수\")\n",
    "plt.ylabel(\"평균 값\")"
   ]
  },
  {
   "cell_type": "code",
   "execution_count": null,
   "id": "alpha-turtle",
   "metadata": {},
   "outputs": [],
   "source": [
    "plt.figure(figsize = (8, 5))\n",
    "\n",
    "\n",
    "sns.lineplot(x = df_100_to_500_0[col_lst].describe().loc[\"mean\", \"업무시설\":].index,\n",
    "            y = df_100_to_500_0[col_lst].describe().loc[\"mean\", \"업무시설\":].values, color = \"red\", label = \"0번 군집\")\n",
    "sns.lineplot(x = df_100_to_500_1[col_lst].describe().loc[\"mean\", \"업무시설\":].index,\n",
    "            y = df_100_to_500_1[col_lst].describe().loc[\"mean\", \"업무시설\":].values, color = \"blue\", label = \"1번 군집\")\n",
    "plt.grid(True, axis = \"y\", alpha = 0.5, linestyle = \"--\")\n",
    "\n",
    "plt.xlabel(\"변수\",)\n",
    "plt.xticks(rotation = 45)\n",
    "plt.ylabel(\"평균 값\")"
   ]
  },
  {
   "cell_type": "code",
   "execution_count": 43,
   "id": "working-colombia",
   "metadata": {},
   "outputs": [],
   "source": [
    "# 군집변수 추가 공업시설이 높은 값은 1번군집\n",
    "df_100_to_500[\"label\"] = 0\n",
    "df_100_to_500.loc[idx_1, \"label\"] = 0\n",
    "df_100_to_500.loc[idx_0, \"label\"] = 1"
   ]
  },
  {
   "cell_type": "code",
   "execution_count": 44,
   "id": "electoral-conviction",
   "metadata": {},
   "outputs": [],
   "source": [
    "# x변수에 군집변수 추가\n",
    "x_col = np.append(x_col, [\"label\"])"
   ]
  },
  {
   "cell_type": "code",
   "execution_count": null,
   "id": "chronic-shoulder",
   "metadata": {},
   "outputs": [],
   "source": [
    "df_100[\"rold\"] = df_100[\"old\"] / df_100[\"old\"].max()"
   ]
  },
  {
   "cell_type": "code",
   "execution_count": null,
   "id": "bizarre-convention",
   "metadata": {},
   "outputs": [],
   "source": [
    "df_100[\"rpop\"] = df_100[\"pop\"] / df_100[\"pop\"].max()\n",
    "df_100[\"rbuild\"] = df_100[\"건물면적\"] / df_100[\"건물면적\"].max()"
   ]
  },
  {
   "cell_type": "code",
   "execution_count": null,
   "id": "impaired-spanish",
   "metadata": {},
   "outputs": [],
   "source": [
    "# pydeck에 시각화 하기 위해서는 polygon을 coordinates 형식으로 바꿔줘야함\n",
    "def multipolygon_to_coordinates(x):\n",
    "    lon, lat = x[0].exterior.xy\n",
    "    return [[x, y] for x, y in zip(lon, lat)]\n",
    "\n",
    "df_100['coordinates'] = df_100['geometry'].apply(multipolygon_to_coordinates)\n",
    "# del df['geometry']"
   ]
  },
  {
   "cell_type": "code",
   "execution_count": null,
   "id": "cosmetic-museum",
   "metadata": {},
   "outputs": [],
   "source": [
    "# pydeck 시각화\n",
    "# Make layer\n",
    "layer1 = pdk.Layer( 'PolygonLayer', # 사용할 Layer 타입 \n",
    "                  df_100, # 시각화에 쓰일 데이터프레임 \n",
    "                  get_polygon='coordinates', # geometry 정보를 담고있는 컬럼 이름 \n",
    "                  get_fill_color='[227, 255, 227, 80]', # 각 데이터 별 rgb 또는 rgba 값 (0~255)\n",
    "                  pickable=True, # 지도와 interactive 한 동작 on \n",
    "                  auto_highlight=True # 마우스 오버(hover) 시 박스 출력 \n",
    "                 ) \n",
    "\n",
    "layer2 = pdk.Layer( 'PolygonLayer', # 사용할 Layer 타입 \n",
    "                  df_100, # 시각화에 쓰일 데이터프레임 \n",
    "                  get_polygon='coordinates', # geometry 정보를 담고있는 컬럼 이름 \n",
    "                  get_fill_color='[255*rbuild,200,227, 1000*rbuild]', # 각 데이터 별 rgb 또는 rgba 값 (0~255)\n",
    "                  pickable=True, # 지도와 interactive 한 동작 on \n",
    "                  auto_highlight=True # 마우스 오버(hover) 시 박스 출력 \n",
    "                 ) \n",
    "\n",
    "# Set the viewport location \n",
    "center = [127.016544,37.277896] # 오산시 중심\n",
    "view_state = pdk.ViewState( \n",
    "    longitude=center[0], \n",
    "    latitude=center[1], \n",
    "    zoom=11\n",
    ") \n",
    "\n",
    "# Render \n",
    "r = pdk.Deck(layers=[layer1, layer2], initial_view_state=view_state,\n",
    "             mapbox_key = \"pk.eyJ1IjoiamNsYXJhODExIiwiYSI6ImNrZzF4bWNhdTBpNnEydG54dGpxNDEwajAifQ.XWxOKQ-2HqFBVBYa-XoS-g\"\n",
    "            )\n",
    "\n",
    "r.to_html()"
   ]
  },
  {
   "cell_type": "code",
   "execution_count": null,
   "id": "incoming-danger",
   "metadata": {},
   "outputs": [],
   "source": [
    "style0 = {'fillColor': '#228B22', 'color': 'black', \"opacity\":\"0.3\", \"fillOpacity\":\"0\"}\n",
    "style1 = {'fillColor': '#228B22', 'color': 'black', \"fillOpacity\":\"0\"}\n",
    "style2 = {'fillColor': '#00FFFFFF', 'color': 'blue', \"opacity\":\"1\"}\n",
    "style3 = {'fillColor': '#00FFFFFF', 'color': 'red', \"opacity\":\"0.5\"}\n",
    "m = folium.Map([37,127], zoom_start=7)\n",
    "\n",
    "\n",
    "df.crs = \"epsg:4326\"\n",
    "build_polygon.crs = \"epsg:4326\"\n",
    "build_df.crs = \"epsg:4326\"\n",
    "df_500.crs = \"epsg:4326\"\n",
    "df_500_1.crs = \"epsg:4326\"\n",
    "bus_buffer.crs = 'epsg:4326'\n",
    "\n",
    "m = folium.Map(max_bounds = True,\n",
    "               zoom_start=12,\n",
    "               location=[37.277896,127.016544])\n",
    "\n",
    "\n",
    "\n",
    "# for idx in range(len(df_500)):\n",
    "#     folium.vector_layers.Polygon(\n",
    "#         locations = build_df.loc[idx, \"geometry\"]\n",
    "#     ).add_to(m)\n",
    "\n",
    "\n",
    "\n",
    "folium.GeoJson(\"./data/31.수원시_행정경계(읍면동).geojson\", name=\"geojson\", style_function = lambda x: style0).add_to(m)\n",
    "folium.GeoJson(data = bus_buffer[\"geometry\"], style_function = lambda x:style1).add_to(m)\n",
    "# folium.GeoJson(data = build_polygon.iloc[:5000,:], style_function=lambda x:style2).add_to(m)\n",
    "folium.GeoJson(data = build_df.iloc[:,:2], style_function=lambda x:style3).add_to(m)\n",
    "m"
   ]
  },
  {
   "cell_type": "code",
   "execution_count": 45,
   "id": "neither-nickel",
   "metadata": {},
   "outputs": [],
   "source": [
    "road_geo = pd.read_csv(\"./data/road_transport.csv\")"
   ]
  },
  {
   "cell_type": "code",
   "execution_count": 46,
   "id": "tropical-undergraduate",
   "metadata": {},
   "outputs": [],
   "source": [
    "road_geo = gpd.GeoDataFrame(road_geo)\n",
    "road_geo[\"geometry\"] = road_geo[\"geometry\"].apply(lambda x: str_to_geo(x))"
   ]
  },
  {
   "cell_type": "code",
   "execution_count": null,
   "id": "suspected-centre",
   "metadata": {},
   "outputs": [],
   "source": [
    "style0 = {'fillColor': '#228B22', 'color': 'black', \"opacity\":\"0.3\", \"fillOpacity\":\"0\"}\n",
    "style1 = {'fillColor': '#228B22', 'color': 'black', \"fillOpacity\":\"0\"}\n",
    "style2 = {'fillColor': '#00FFFFFF', 'color': 'blue', \"opacity\":\"1\"}\n",
    "style3 = {'fillColor': '#00FFFFFF', 'color': 'red', \"opacity\":\"0.5\"}\n",
    "m = folium.Map([37,127], zoom_start=7)\n",
    "\n",
    "\n",
    "df.crs = \"epsg:4326\"\n",
    "build_polygon.crs = \"epsg:4326\"\n",
    "build_df.crs = \"epsg:4326\"\n",
    "df_500.crs = \"epsg:4326\"\n",
    "df_500_1.crs = \"epsg:4326\"\n",
    "bus_buffer.crs = 'epsg:4326'\n",
    "road_geo.crs = \"epsg:4326\"\n",
    "df_100.crs = 'epsg:4326'\n",
    "\n",
    "m = folium.Map(max_bounds = True,\n",
    "               zoom_start=12,\n",
    "               location=[37.277896,127.016544])\n",
    "\n",
    "\n",
    "\n",
    "# for idx in range(len(df_500)):\n",
    "#     folium.vector_layers.Polygon(\n",
    "#         locations = build_df.loc[idx, \"geometry\"]\n",
    "#     ).add_to(m)\n",
    "\n",
    "\n",
    "\n",
    "folium.GeoJson(\"./data/31.수원시_행정경계(읍면동).geojson\", name=\"geojson\", style_function = lambda x: style0).add_to(m)\n",
    "folium.GeoJson(data = df_100[\"geometry\"], style_function = lambda x:style1).add_to(m)\n",
    "folium.GeoJson(data = road_geo, style_function=lambda x:style3).add_to(m)\n",
    "folium.GeoJson(data = df_500[\"geometry\"], style_function=lambda x:style3).add_to(m)\n",
    "m"
   ]
  },
  {
   "cell_type": "code",
   "execution_count": 47,
   "id": "impossible-bahrain",
   "metadata": {},
   "outputs": [],
   "source": [
    "#df_500.to_csv(\"./data/df_500_train.csv\", index = False)"
   ]
  },
  {
   "cell_type": "code",
   "execution_count": 48,
   "id": "enabling-stage",
   "metadata": {},
   "outputs": [],
   "source": [
    "#df_100_to_500.to_csv(\"./data/df_100_to_500_test.csv\", index = False)"
   ]
  },
  {
   "cell_type": "code",
   "execution_count": null,
   "id": "little-capitol",
   "metadata": {},
   "outputs": [],
   "source": [
    "from sklearn.linear_model import SGDRegressor, LinearRegression\n",
    "from sklearn.metrics import r2_score\n",
    "from sklearn.model_selection import train_test_split\n",
    "from sklearn.ensemble import RandomForestRegressor\n",
    "\n",
    "y = df_500[\"승하차건수\"]\n",
    "x = df_500[x_col]\n",
    "\n",
    "x_tr, x_test, y_tr, y_test = train_test_split(x, y, test_size = 0.8)\n",
    "\n",
    "lr_reg = LinearRegression()\n",
    "sgd_reg = SGDRegressor(max_iter = 300)\n",
    "rf_reg = RandomForestRegressor()\n",
    "\n",
    "lr_reg.fit(x_tr, y_tr)\n",
    "sgd_reg.fit(x_tr, y_tr)\n",
    "rf_reg.fit(x_tr, y_tr)\n",
    "lr_pred = lr_reg.predict(x_test)\n",
    "sgd_pred = sgd_reg.predict(x_test)\n",
    "rf_pred = rf_reg.predict(x_test)\n",
    "\n",
    "print(\"선형회귀 결과 : \", r2_score(y_test, lr_pred))\n",
    "print(\"경사하강 결과 : \", r2_score(y_test, sgd_pred))\n",
    "print(\"랜덤포레스트 결과 : \", r2_score(y_test, rf_pred))"
   ]
  },
  {
   "cell_type": "code",
   "execution_count": null,
   "id": "absolute-sigma",
   "metadata": {},
   "outputs": [],
   "source": [
    "# 상관분석\n",
    "plt.figure(figsize = (10, 5))\n",
    "sns.heatmap(df_500[x_col].corr(), annot=True)"
   ]
  },
  {
   "cell_type": "code",
   "execution_count": null,
   "id": "invalid-laptop",
   "metadata": {},
   "outputs": [],
   "source": [
    "# 인구정보 하위 변수는 population 안에 속하는 값이므로 제거\n",
    "plt.figure(figsize = (10, 5))\n",
    "sns.heatmap(df_500[[\"old\", \"worker\", \"youth\", \"population\"]].corr(), annot=True)"
   ]
  },
  {
   "cell_type": "code",
   "execution_count": null,
   "id": "preliminary-shell",
   "metadata": {},
   "outputs": [],
   "source": [
    "# 건물면적, 주거시설 상관성이 높음\n",
    "# 건물면적의 하위 변수들인 다른 밀도들은 상관성이 낮기 때문에 하위 변수인 주거시설 사용\n",
    "plt.figure(figsize = (10, 5))\n",
    "sns.heatmap(df_500[[\"건물면적\", \"주거시설\"]].corr(), annot=True)"
   ]
  },
  {
   "cell_type": "code",
   "execution_count": null,
   "id": "special-donor",
   "metadata": {},
   "outputs": [],
   "source": [
    "# 인구정보 변수중 population만 독립변수로 사용\n",
    "x_col = np.delete(x_col, np.where((x_col == [\"old\"]) | (x_col == [\"worker\"]) | (x_col == [\"youth\"])))"
   ]
  },
  {
   "cell_type": "code",
   "execution_count": null,
   "id": "adjustable-benefit",
   "metadata": {},
   "outputs": [],
   "source": [
    "x_col = np.delete(x_col, np.where(x_col == \"건물면적\"))"
   ]
  },
  {
   "cell_type": "code",
   "execution_count": null,
   "id": "dental-melissa",
   "metadata": {},
   "outputs": [],
   "source": [
    "# 제거 후 상관분석 다시 실행\n",
    "plt.figure(figsize = (10, 5))\n",
    "sns.heatmap(df_500[x_col].corr(), annot=True)"
   ]
  },
  {
   "cell_type": "code",
   "execution_count": null,
   "id": "normal-capability",
   "metadata": {},
   "outputs": [],
   "source": [
    "# pop(유동인구) building_area, 직주비, populatoin\n",
    "# builing_area는 건물밀도로 확인 가능하므로 독립변수에서 제거\n",
    "# 직주비는 TOD 변수이므로 population 변수 돌립변수에서 제거\n",
    "plt.figure(figsize = (10, 5))\n",
    "sns.heatmap(df_500[[\"pop\", \"building_area\", \"직주비\", \"population\"]].corr(), annot=True)"
   ]
  },
  {
   "cell_type": "code",
   "execution_count": null,
   "id": "statistical-check",
   "metadata": {},
   "outputs": [],
   "source": [
    "# 독립변수에서 제거\n",
    "x_col = np.delete(x_col, np.where(x_col == \"building_area\"))\n",
    "x_col = np.delete(x_col, np.where(x_col == \"population\"))"
   ]
  },
  {
   "cell_type": "markdown",
   "id": "planned-mainland",
   "metadata": {},
   "source": [
    "# 공간회귀분석"
   ]
  },
  {
   "cell_type": "code",
   "execution_count": null,
   "id": "induced-vulnerability",
   "metadata": {},
   "outputs": [],
   "source": [
    "#회귀분석\n",
    "\n",
    "import statsmodels.api as sm\n",
    "from statsmodels.sandbox.regression.predstd import wls_prediction_std\n",
    "from sklearn.model_selection import train_test_split\n",
    "\n",
    "#공간회귀분석\n",
    "\n",
    "import pysal\n",
    "import libpysal\n",
    "from libpysal.weights import Queen, Rook, KNN, DistanceBand, Kernel\n",
    "from esda.getisord import G\n",
    "from esda.moran import Moran\n",
    "from spreg import OLS, ML_Lag, ML_Error, GM_Lag, GM_Error, TSLS\n",
    "\n",
    "\n",
    "#정규성검정\n",
    "from scipy.stats import shapiro\n",
    "\n",
    "#다중공선성 체크\n",
    "from statsmodels.stats.outliers_influence import variance_inflation_factor"
   ]
  },
  {
   "cell_type": "markdown",
   "id": "labeled-therapy",
   "metadata": {},
   "source": [
    "다중공선성 체크"
   ]
  },
  {
   "cell_type": "code",
   "execution_count": null,
   "id": "innovative-toyota",
   "metadata": {},
   "outputs": [],
   "source": [
    "# 다중공선성 확인 \"버스정류장수\" 제일 높음\n",
    "vif = pd.DataFrame()\n",
    "vif[\"vif_value\"] = [variance_inflation_factor(df_500[x_col].values, i) for i in range(len(x_col))]\n",
    "vif[\"columns\"] = x_col\n",
    "\n",
    "vif"
   ]
  },
  {
   "cell_type": "code",
   "execution_count": null,
   "id": "alert-outdoors",
   "metadata": {},
   "outputs": [],
   "source": [
    "# 다중공선성 확인2. \"버스정류장수\" 제거\n",
    "vif = pd.DataFrame()\n",
    "col = np.delete(x_col, np.where(x_col == \"버스정류장수\"))\n",
    "vif[\"vif_value\"] = [variance_inflation_factor(df_500[col].values, i) for i in range(len(col))]\n",
    "vif[\"columns\"] = col\n",
    "\n",
    "vif"
   ]
  },
  {
   "cell_type": "code",
   "execution_count": null,
   "id": "reported-vehicle",
   "metadata": {},
   "outputs": [],
   "source": [
    "# 다중공선성 확인3.  \"pop\" 제거\n",
    "# 밀도로 유추 가능\n",
    "vif = pd.DataFrame()\n",
    "col = np.delete(x_col, np.where((x_col == \"버스정류장수\") | (x_col == \"pop\")))\n",
    "vif[\"vif_value\"] = [variance_inflation_factor(df_500[col].values, i) for i in range(len(col))]\n",
    "vif[\"columns\"] = col\n",
    "\n",
    "vif"
   ]
  },
  {
   "cell_type": "code",
   "execution_count": null,
   "id": "satellite-producer",
   "metadata": {},
   "outputs": [],
   "source": [
    "# 다중공선성 확인4. \"직주비\" 제거\n",
    "# 주거시설로 유츠 가능\n",
    "vif = pd.DataFrame()\n",
    "col = np.delete(x_col, np.where((x_col == \"버스정류장수\") | (x_col == \"pop\")\n",
    "                               | (x_col == \"직주비\")))\n",
    "vif[\"vif_value\"] = [variance_inflation_factor(df_500[col].values, i) for i in range(len(col))]\n",
    "vif[\"columns\"] = col\n",
    "\n",
    "vif"
   ]
  },
  {
   "cell_type": "code",
   "execution_count": null,
   "id": "looking-testing",
   "metadata": {},
   "outputs": [],
   "source": [
    "# 다중공선성 확인5. \"distance\" 제거\n",
    "# 구할때 부터 평균으로 들어감\n",
    "vif = pd.DataFrame()\n",
    "col = np.delete(x_col, np.where((x_col == \"버스정류장수\") | (x_col == \"pop\")\n",
    "                               | (x_col == \"직주비\") ))\n",
    "vif[\"vif_value\"] = [variance_inflation_factor(df_500[col].values, i) for i in range(len(col))]\n",
    "vif[\"columns\"] = col\n",
    "\n",
    "vif"
   ]
  },
  {
   "cell_type": "code",
   "execution_count": null,
   "id": "dramatic-efficiency",
   "metadata": {},
   "outputs": [],
   "source": [
    "# 다중공선성 확인6. \"label\" 제거\n",
    "# 새로 수집한 변수 제거\n",
    "vif = pd.DataFrame()\n",
    "col = np.delete(x_col, np.where((x_col == \"버스정류장수\") | (x_col == \"pop\")\n",
    "                               | (x_col == \"직주비\") | (x_col == \"distance\")\n",
    "                               ))\n",
    "vif[\"vif_value\"] = [variance_inflation_factor(df_500[col].values, i) for i in range(len(col))]\n",
    "vif[\"columns\"] = col\n",
    "\n",
    "vif"
   ]
  },
  {
   "cell_type": "code",
   "execution_count": null,
   "id": "mathematical-words",
   "metadata": {},
   "outputs": [],
   "source": [
    "# y 절편\n",
    "df_500 = sm.add_constant(df_500, has_constant=\"add\")"
   ]
  },
  {
   "cell_type": "markdown",
   "id": "alternate-basics",
   "metadata": {},
   "source": [
    "공간회귀분석"
   ]
  },
  {
   "cell_type": "code",
   "execution_count": null,
   "id": "boolean-lightning",
   "metadata": {},
   "outputs": [],
   "source": [
    "W_Q = Queen.from_dataframe(df_500)\n",
    "W_D = DistanceBand.from_dataframe(df_500, threshold=0.005, binary = False)"
   ]
  },
  {
   "cell_type": "code",
   "execution_count": null,
   "id": "anonymous-technology",
   "metadata": {},
   "outputs": [],
   "source": [
    "W_Q.transform = \"r\"\n",
    "W_D.transform = \"r\""
   ]
  },
  {
   "cell_type": "code",
   "execution_count": null,
   "id": "crude-abortion",
   "metadata": {},
   "outputs": [],
   "source": [
    "x = np.array(df_500[x_col])\n",
    "x_1 = np.array(df_500[col])\n",
    "\n",
    "y = np.array(df_500[[\"승하차건수\"]])"
   ]
  },
  {
   "cell_type": "code",
   "execution_count": null,
   "id": "exclusive-ranking",
   "metadata": {},
   "outputs": [],
   "source": [
    "ols_Q = OLS(y= y, x= x, w = W_Q, name_x = list(x_col), name_y=\"승하차건수\", white_test=True, spat_diag=True, moran=True)\n",
    "ols_Q_1 = OLS(y= y, x= x_1, w = W_Q, name_x = list(col), name_y=\"승하차건수\", white_test=True, spat_diag=True, moran=True)\n",
    "\n",
    "ols_D = OLS(y= y, x= x, w = W_D, name_x = list(x_col), name_y=\"승하차건수\", white_test=True, spat_diag=True, moran=True)\n",
    "ols_D_1 = OLS(y= y, x= x_1, w = W_D, name_x = list(col), name_y=\"승하차건수\", white_test=True, spat_diag=True, moran=True)"
   ]
  },
  {
   "cell_type": "code",
   "execution_count": null,
   "id": "economic-communications",
   "metadata": {},
   "outputs": [],
   "source": [
    "print(ols_Q.summary)"
   ]
  },
  {
   "cell_type": "code",
   "execution_count": null,
   "id": "uniform-hypothetical",
   "metadata": {},
   "outputs": [],
   "source": [
    "print(ols_Q_1.summary)"
   ]
  },
  {
   "cell_type": "code",
   "execution_count": null,
   "id": "explicit-discussion",
   "metadata": {},
   "outputs": [],
   "source": [
    "# 정규성 검증\n",
    "# 모든 변수가 정규성을 가정하지 않는다.\n",
    "for idx in col:\n",
    "    stat, pvalue = shapiro(df_500[col])\n",
    "    if pvalue >= 0.05:\n",
    "        print(idx)\n",
    "    else:\n",
    "        print(idx, \"변수는 정규성을 가정하지 않는다\")"
   ]
  },
  {
   "cell_type": "code",
   "execution_count": null,
   "id": "answering-macro",
   "metadata": {},
   "outputs": [],
   "source": [
    "# sem_ml 모형\n",
    "mlerror_q = ML_Error(y=y, x=x_1, w=W_Q, method='full', name_x=list(col), name_y=[\"승하차건수\"])\n",
    "gmerror = GM_Error(x = x_1, name_x= list(col), y = y, name_y = '승하차건수', w = W_Q)"
   ]
  },
  {
   "cell_type": "code",
   "execution_count": null,
   "id": "parental-treasurer",
   "metadata": {},
   "outputs": [],
   "source": [
    "print(mlerror_q.summary)"
   ]
  },
  {
   "cell_type": "code",
   "execution_count": null,
   "id": "eligible-symposium",
   "metadata": {},
   "outputs": [],
   "source": [
    "print(gmerror.summary)"
   ]
  },
  {
   "cell_type": "code",
   "execution_count": null,
   "id": "optimum-soundtrack",
   "metadata": {},
   "outputs": [],
   "source": [
    "# 유의한 변수 선택 '공공시설', '교육연구시설', '업무시설', '지하철역수'\n",
    "\n",
    "new_col = np.delete(col, np.where((col == \"공공시설\") | (col == '교육연구시설') \n",
    "                                  | (col == '업무시설') | (col == '지하철역수') | (col == \"label\")\n",
    "                                 | (col == 'distance')))"
   ]
  },
  {
   "cell_type": "code",
   "execution_count": null,
   "id": "offshore-priest",
   "metadata": {},
   "outputs": [],
   "source": [
    "# 유의한 변수로 돌리기\n",
    "x_1 = np.array(df_500[new_col])\n",
    "    \n",
    "y = np.array(df_500[[\"승하차건수\"]])"
   ]
  },
  {
   "cell_type": "code",
   "execution_count": null,
   "id": "brutal-tuner",
   "metadata": {},
   "outputs": [],
   "source": [
    "mlerror_q = ML_Error(y=y, x=x_1, w=W_Q, method='full', name_x=list(new_col), name_y=[\"승하차건수\"])\n",
    "gmerror = GM_Error(x = x_1, name_x= list(new_col), y = y, name_y = '승하차건수', w = W_Q)"
   ]
  },
  {
   "cell_type": "code",
   "execution_count": null,
   "id": "political-queensland",
   "metadata": {},
   "outputs": [],
   "source": [
    "print(mlerror_q.summary)"
   ]
  },
  {
   "cell_type": "code",
   "execution_count": null,
   "id": "joined-array",
   "metadata": {},
   "outputs": [],
   "source": [
    "print(gmerror.summary)"
   ]
  },
  {
   "cell_type": "code",
   "execution_count": null,
   "id": "attended-sunglasses",
   "metadata": {},
   "outputs": [],
   "source": [
    "new_col"
   ]
  },
  {
   "cell_type": "code",
   "execution_count": null,
   "id": "received-affairs",
   "metadata": {},
   "outputs": [],
   "source": [
    "pd.DataFrame({\"x_col\":new_col}).to_csv(\"./data/x_col.csv\", index = False)"
   ]
  }
 ],
 "metadata": {
  "kernelspec": {
   "display_name": "Python 3",
   "language": "python",
   "name": "python3"
  },
  "language_info": {
   "codemirror_mode": {
    "name": "ipython",
    "version": 3
   },
   "file_extension": ".py",
   "mimetype": "text/x-python",
   "name": "python",
   "nbconvert_exporter": "python",
   "pygments_lexer": "ipython3",
   "version": "3.6.9"
  }
 },
 "nbformat": 4,
 "nbformat_minor": 5
}
