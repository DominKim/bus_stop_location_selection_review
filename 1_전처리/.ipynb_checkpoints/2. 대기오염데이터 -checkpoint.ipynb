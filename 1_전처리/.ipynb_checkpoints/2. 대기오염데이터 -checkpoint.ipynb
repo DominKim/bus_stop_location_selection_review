{
 "cells": [
  {
   "cell_type": "markdown",
   "id": "broken-plumbing",
   "metadata": {},
   "source": [
    "# 패키지 설치"
   ]
  },
  {
   "cell_type": "code",
   "execution_count": null,
   "id": "moving-flush",
   "metadata": {},
   "outputs": [],
   "source": [
    "import pathlib\n",
    "import random\n",
    "from functools import reduce\n",
    "from collections import defaultdict\n",
    "import json\n",
    "import pandas as pd\n",
    "import numpy as np\n",
    "from numpy import random\n",
    "\n",
    "import matplotlib.pyplot as plt\n",
    "import seaborn as sns\n",
    "\n",
    "# 공간연산한 결과 데이터 표현하기 위한 패키지 \n",
    "import folium\n",
    "from folium import plugins\n",
    "import shapely\n",
    "from shapely.geometry import Point, Polygon, LineString\n",
    "import geopandas as gpd\n",
    "from IPython.display import display\n",
    "from tqdm.notebook import tqdm\n",
    "import sklearn.cluster\n",
    "import tensorflow as tf\n",
    "from geoband import API # API 부르기 \n",
    "import pydeck as pdk\n",
    "import os\n",
    "from tqdm import notebook\n",
    "import tqdm\n",
    "\n",
    "import cufflinks as cf \n",
    "cf.go_offline(connected=True)\n",
    "cf.set_config_file(theme='polar')\n",
    "pd.set_option('display.max_columns', 500)\n",
    "pd.set_option('display.width', 1000)\n",
    "\n",
    "# 경고 무시\n",
    "import warnings\n",
    "warnings.filterwarnings('ignore')\n",
    "\n",
    "import matplotlib.pyplot as plt\n",
    "plt.rcParams[\"font.family\"] = 'Nanum Gothic'\n",
    "\n",
    "from shapely.geometry import Polygon, Point\n",
    "from numpy import random\n",
    "\n",
    "#최적화 solver\n",
    "import time\n",
    "from mip import Model, xsum, maximize, BINARY  \n",
    "\n",
    "import matplotlib.pyplot as plt\n",
    "import seaborn as sns\n",
    "import warnings\n",
    "warnings.filterwarnings(\"ignore\")\n",
    "%matplotlib inline"
   ]
  },
  {
   "cell_type": "markdown",
   "id": "accessory-sapphire",
   "metadata": {},
   "source": [
    "# 데이터 불러오기"
   ]
  },
  {
   "cell_type": "code",
   "execution_count": null,
   "id": "elementary-future",
   "metadata": {},
   "outputs": [],
   "source": [
    "# 데이터 입력 - 모든 데이터는 df_로 시작 \n",
    "# gpd 데이터프레임 형식 -> pydeck 분석시 판다스 데이터프레임 형태로 변환해야함\n",
    "df_1= gpd.read_file('./data/1.수원시_버스정류장.csv')\n",
    "df_2= gpd.read_file('./data/2.수원시_버스정류장별_승하차이력(1).csv')\n",
    "df_3= gpd.read_file('./data/3.수원시_버스정류장별_승하차이력(2).csv')\n",
    "df_4= gpd.read_file('./data/4.수원시_버스정류장별_승하차이력(3).csv')\n",
    "df_5= gpd.read_file('./data/5.수원시_버스정류장별_승하차이력(4).csv')\n",
    "df_6= gpd.read_file('./data/6.수원시_버스정류장별_승하차이력(5).csv')\n",
    "df_7= gpd.read_file('./data/7.수원시_버스정류장별_노선현황.csv')\n",
    "df_8= gpd.read_file('./data/8.수원시_지하철역_위치정보.csv')\n",
    "df_9= gpd.read_file('./data/9.수원시_지하철역별_이용현황(2017~2019).csv')\n",
    "df_10= gpd.read_file('./data/10.수원시_옥외광고물현황.csv')\n",
    "df_11= gpd.read_file('./data/11.수원시_대기오염도_측정현황.csv')\n",
    "df_12= gpd.read_file('./data/12.수원시_주차장현황.csv')\n",
    "df_13= gpd.read_file('./data/13.수원시_기상데이터(2020).csv')\n",
    "df_14= gpd.read_file('./data/14.수원시_시간대별_유동인구(2020).csv')\n",
    "df_15= gpd.read_file('./data/15.수원시_성연령별_유동인구(2020).csv')\n",
    "df_16= gpd.read_file('./data/16.수원시_요일별_유동인구(2020).csv')\n",
    "df_17= gpd.read_file('./data/17.수원시_인구정보(고령)_격자.geojson')\n",
    "df_18= gpd.read_file('./data/18.수원시_인구정보(생산가능)_격자.geojson')\n",
    "df_19= gpd.read_file('./data/19.수원시_인구정보(유소년)_격자.geojson')\n",
    "df_20= gpd.read_file('./data/20.수원시_교통노드.geojson')\n",
    "df_21= gpd.read_file('./data/21.수원시_교통링크.geojson')\n",
    "df_22= gpd.read_file('./data/22.수원시_상세도로망_LV6.geojson')\n",
    "df_23= gpd.read_file('./data/23.수원시_평일_일별_시간대별_추정교통량_LV6.csv')\n",
    "df_24= gpd.read_file('./data/24.수원시_평일_일별_혼잡빈도강도_LV6.csv')\n",
    "df_25= gpd.read_file('./data/25.수원시_평일_일별_혼잡시간강도_LV6.csv')\n",
    "df_26= gpd.read_file('./data/26.수원시_인도(2017).geojson')\n",
    "df_27= gpd.read_file('./data/27.수원시_도로명주소(건물).geojson')\n",
    "df_28= gpd.read_file('./data/28.수원시_건물연면적_격자.geojson')\n",
    "df_29= gpd.read_file('./data/29.수원시_법정경계(시군구).geojson')\n",
    "df_30= gpd.read_file('./data/30.수원시_법정경계(읍면동).geojson')\n",
    "df_31= gpd.read_file('./data/31.수원시_행정경계(읍면동).geojson')\n",
    "df_32= gpd.read_file('./data/32.수원시_지적도.geojson')"
   ]
  },
  {
   "cell_type": "code",
   "execution_count": null,
   "id": "traditional-major",
   "metadata": {},
   "outputs": [],
   "source": [
    "df_1 = gpd.GeoDataFrame(pd.read_csv(\"수원시_버스정류장_승하차이력.csv\"))\n",
    "subway_sum_df = gpd.GeoDataFrame(pd.read_csv(\"수원시_지하철역별_이용현황.csv\"))\n",
    "final_df = gpd.GeoDataFrame(pd.read_csv(\"유동인구_인구정보_결합.csv\"))\n",
    "road_transport_geo = gpd.GeoDataFrame(pd.read_csv(\"road_transport.csv\"))\n",
    "build_df = gpd.GeoDataFrame(pd.read_csv(\"build_df.csv\"))\n",
    "df_1_build = gpd.GeoDataFrame(pd.read_csv(\"정류장_빌딩_병합.csv\"))\n",
    "df_500 = gpd.GeoDataFrame(pd.read_csv(\"df_500.csv\"))\n",
    "df_100_to_500 = gpd.GeoDataFrame(pd.read_csv(\"df_100_to_500.csv\"))\n",
    "gid_data = gpd.GeoDataFrame(pd.read_csv(\"격자_데이터.csv\"))"
   ]
  },
  {
   "cell_type": "code",
   "execution_count": null,
   "id": "consolidated-union",
   "metadata": {},
   "outputs": [],
   "source": [
    "def str_to_geo(x):\n",
    "    a = shapely.wkt.loads(x)\n",
    "    return a\n",
    "\n",
    "df_1[\"geometry\"] = df_1[\"geometry\"].apply(lambda x: str_to_geo(x))\n",
    "#df_1[\"buffer\"] = df_1[\"buffer\"].astype(\"geometry\")\n",
    "#df_1[\"buffer\"] = df_1[\"buffer\"].apply(lambda x: str_to_geo(x))"
   ]
  },
  {
   "cell_type": "code",
   "execution_count": null,
   "id": "virgin-leone",
   "metadata": {},
   "outputs": [],
   "source": [
    "subway_sum_df[\"geometry\"] = subway_sum_df[\"geometry\"].apply(lambda x: str_to_geo(x))\n",
    "final_df[\"geometry\"] = final_df[\"geometry\"].apply(lambda x: str_to_geo(x))\n",
    "road_transport_geo[\"geometry\"] = road_transport_geo[\"geometry\"].apply(lambda x: str_to_geo(x))\n",
    "build_df[\"geometry\"] = build_df[\"geometry\"].apply(lambda x: str_to_geo(x))\n",
    "df_1_build[\"geometry\"] = df_1_build[\"geometry\"].apply(lambda x: str_to_geo(x))\n",
    "#df_1_build[\"buffer\"] = df_1_build[\"buffer\"].astype(\"geometry\")\n",
    "#df_100_to_500[\"geometry\"] = df_100_to_500[\"geometry\"].apply(lambda x: str_to_geo(x))\n",
    "#df_100_to_500[\"gid_center\"] = df_100_to_500[\"gid_center\"].apply(lambda x: str_to_geo(x))\n",
    "df_500[\"geometry\"] = df_500[\"geometry\"].apply(lambda x: str_to_geo(x))\n",
    "#df_500[\"buffer\"] = df_500[\"buffer\"].astype(\"geometry\")\n",
    "df_500[\"buffer\"] = df_500[\"buffer\"].apply(lambda x: str_to_geo(x))"
   ]
  },
  {
   "cell_type": "markdown",
   "id": "further-debate",
   "metadata": {},
   "source": [
    "# 대기오염도,기상데이터, 교통량데이터 결합 "
   ]
  },
  {
   "cell_type": "code",
   "execution_count": null,
   "id": "rolled-cherry",
   "metadata": {},
   "outputs": [],
   "source": [
    "df_11.head(20) # 측정소는 8곳 24개월치 "
   ]
  },
  {
   "cell_type": "code",
   "execution_count": null,
   "id": "alleged-liechtenstein",
   "metadata": {},
   "outputs": [],
   "source": [
    "df_11.count() # -값 삭제 안됨 "
   ]
  },
  {
   "cell_type": "code",
   "execution_count": null,
   "id": "interracial-hierarchy",
   "metadata": {},
   "outputs": [],
   "source": [
    "df_11 = df_11[df_11['오존(ppm)']!='-'].reset_index()\n",
    "# null값 행 제거 "
   ]
  },
  {
   "cell_type": "code",
   "execution_count": null,
   "id": "quick-institute",
   "metadata": {},
   "outputs": [],
   "source": [
    "df_11.count()"
   ]
  },
  {
   "cell_type": "code",
   "execution_count": null,
   "id": "advisory-showcase",
   "metadata": {},
   "outputs": [],
   "source": [
    "df_11['측정소'].value_counts()\n",
    "# 호매실 동은 설치 전 3개월 때문에 3건이 부족"
   ]
  },
  {
   "cell_type": "code",
   "execution_count": null,
   "id": "educational-crash",
   "metadata": {},
   "outputs": [],
   "source": [
    "df_11['미세먼지_점수']=0\n",
    "df_11['초미세먼지_점수']=0\n",
    "df_11['오존_점수']=0\n",
    "df_11['이산화질소_점수']=0\n",
    "df_11['아황산가스_점수']=0\n",
    "df_11['일산화탄소_점수']=0"
   ]
  },
  {
   "cell_type": "code",
   "execution_count": null,
   "id": "former-arbitration",
   "metadata": {},
   "outputs": [],
   "source": [
    "df_11[\"미세먼지(㎍/㎥)\"] = df_11[\"미세먼지(㎍/㎥)\"].astype(\"float\")\n",
    "df_11[\"초미세먼지(㎍/㎥)\"] = df_11[\"초미세먼지(㎍/㎥)\"].astype(\"float\")\n",
    "df_11[\"오존(ppm)\"] = df_11[\"오존(ppm)\"].astype(\"float\")\n",
    "df_11[\"이산화질소(ppm)\"] = df_11[\"이산화질소(ppm)\"].astype(\"float\")\n",
    "df_11[\"아황산가스(ppm)\"] = df_11[\"아황산가스(ppm)\"].astype(\"float\")\n",
    "df_11[\"일산화탄소(ppm)\"] = df_11[\"일산화탄소(ppm)\"].astype(\"float\")\n",
    "df_11.info()"
   ]
  },
  {
   "cell_type": "markdown",
   "id": "convenient-trick",
   "metadata": {},
   "source": [
    "# 대기오염지수 점수 계산 "
   ]
  },
  {
   "cell_type": "code",
   "execution_count": null,
   "id": "fossil-pulse",
   "metadata": {},
   "outputs": [],
   "source": [
    "# 아황산가스_지수 점수 설정 \n",
    "def 아황산가스(x):\n",
    "    if x >= 0 and x <= 0.020:\n",
    "        return ((50-0)/(0.020-0))*(x-0)+0\n",
    "    elif x >= 0.021 and x <= 0.050:\n",
    "        return ((100-51)/(0.050-0.021))*(x-0.021)+51\n",
    "    elif x >=0.051 and x <= 0.150:\n",
    "        return((250-101)/(0.150-0.051))*(x-0.051)+101\n",
    "    elif x >= 0.151 and x<= 0.4:\n",
    "        return((350-251)/(0.4-0.151))*(x-0.151)+251\n",
    "    else:\n",
    "        return((500-351)/(1-0.401))*(x-0.401)+500"
   ]
  },
  {
   "cell_type": "code",
   "execution_count": null,
   "id": "streaming-reply",
   "metadata": {},
   "outputs": [],
   "source": [
    "# 이산화질소 점수 설정 \n",
    "def 이산화질소(x):\n",
    "    if x >= 0 and x <= 0.03:\n",
    "        return ((50-0)/(0.03-0))*(x-0)+0\n",
    "    elif x >= 0.031 and x <= 0.06:\n",
    "        return ((100-51)/(0.06-0.031))*(x-0.031)+51\n",
    "    elif x >=0.061 and x <= 0.2:\n",
    "        return((250-101)/(0.2-0.061))*(x-0.061)+101\n",
    "    elif x >= 0.201 and x<= 0.6:\n",
    "        return((350-251)/(0.6-0.201))*(x-0.201)+251\n",
    "    else:\n",
    "        return((500-351)/(2-0.601))*(x-0.601)+500"
   ]
  },
  {
   "cell_type": "code",
   "execution_count": null,
   "id": "indoor-strategy",
   "metadata": {},
   "outputs": [],
   "source": [
    "# 오존(ppm) 점수 설정 \n",
    "def 오존(x):\n",
    "    if x >= 0 and x <= 0.03:\n",
    "        return ((50-0)/(0.03-0))*(x-0)+0\n",
    "    elif x >= 0.031 and x <= 0.09:\n",
    "        return ((100-51)/(0.09-0.031))*(x-0.031)+51\n",
    "    elif x >=0.091 and x <= 0.15:\n",
    "        return((250-101)/(0.15-0.091))*(x-0.091)+101\n",
    "    elif x >= 0.151 and x<= 0.5:\n",
    "        return((350-251)/(0.5-0.151))*(x-0.151)+251\n",
    "    else:\n",
    "        return((500-351)/(0.6-0.501))*(x-0.501)+500"
   ]
  },
  {
   "cell_type": "code",
   "execution_count": null,
   "id": "published-tracker",
   "metadata": {},
   "outputs": [],
   "source": [
    "# 일산화탄소_점수 설정\n",
    "def 일산화탄소(x):\n",
    "    if x >= 0 and x <= 2:\n",
    "        return ((50-0)/(2-0))*(x-0)+0\n",
    "    elif x >= 2.1 and x <= 9:\n",
    "        return ((100-51)/(9-2.1))*(x-2.1)+51\n",
    "    elif x >=9.1 and x <= 15:\n",
    "        return((250-101)/(15-9.1))*(x-9.1)+101\n",
    "    elif x >= 15.1 and x<= 30:\n",
    "        return((350-251)/(30-15.1))*(x-15.1)+251\n",
    "    else:\n",
    "        return((500-351)/(50-30.1))*(x-30.1)+500"
   ]
  },
  {
   "cell_type": "code",
   "execution_count": null,
   "id": "satisfied-blackberry",
   "metadata": {},
   "outputs": [],
   "source": [
    "# 미세먼지PM-10(㎍/㎥)_점수 설정\n",
    "def 미세먼지(x):\n",
    "    if x >= 0 and x <= 30:\n",
    "        return ((50-0)/(30-0))*(x-0)+0\n",
    "    elif x >= 31 and x <= 80:\n",
    "        return ((100-51)/(80-31))*(x-31)+51\n",
    "    elif x >=81 and x <= 150:\n",
    "        return((250-101)/(150-81))*(x-81)+101\n",
    "    elif x >= 151 and x<= 300:\n",
    "        return((350-251)/(300-151))*(x-151)+251\n",
    "    else:\n",
    "        return((500-351)/(600-301))*(x-301)+500"
   ]
  },
  {
   "cell_type": "code",
   "execution_count": null,
   "id": "periodic-profit",
   "metadata": {},
   "outputs": [],
   "source": [
    "# 초미세먼지PM-2.5(㎍/㎥)_점수 설정\n",
    "def 초미세먼지(x):\n",
    "    if x >= 0 and x <= 15:\n",
    "        return ((50-0)/(15-0))*(x-0)+0\n",
    "    elif x >= 16 and x <= 35:\n",
    "        return ((100-51)/(35-16))*(x-16)+51\n",
    "    elif x >=36 and x <= 75:\n",
    "        return((250-101)/(75-36))*(x-36)+101\n",
    "    elif x >= 76 and x<= 250:\n",
    "        return((350-251)/(250-76))*(x-76)+251\n",
    "    else:\n",
    "        return((500-351)/(500-251))*(x-251)+500"
   ]
  },
  {
   "cell_type": "code",
   "execution_count": null,
   "id": "reserved-shoot",
   "metadata": {},
   "outputs": [],
   "source": [
    "df_11['아황산가스_점수'] = df_11['아황산가스(ppm)'].apply(아황산가스)\n",
    "df_11['일산화탄소_점수'] = df_11['일산화탄소(ppm)'].apply(일산화탄소)\n",
    "df_11['이산화질소_점수'] = df_11['이산화질소(ppm)'].apply(이산화질소)\n",
    "df_11['오존_점수'] = df_11['오존(ppm)'].apply(오존)\n",
    "df_11['미세먼지_점수'] = df_11['미세먼지(㎍/㎥)'].apply(미세먼지)\n",
    "df_11['초미세먼지_점수'] = df_11['초미세먼지(㎍/㎥)'].apply(초미세먼지)"
   ]
  },
  {
   "cell_type": "code",
   "execution_count": null,
   "id": "painted-survival",
   "metadata": {},
   "outputs": [],
   "source": [
    "df_11_grade =  df_11.iloc[:,15:-1]"
   ]
  },
  {
   "cell_type": "code",
   "execution_count": null,
   "id": "desperate-requirement",
   "metadata": {},
   "outputs": [],
   "source": [
    "df_11.info()"
   ]
  },
  {
   "cell_type": "code",
   "execution_count": null,
   "id": "honey-collectible",
   "metadata": {},
   "outputs": [],
   "source": [
    "cai= []\n",
    "for i in range(len(df_11_grade)):\n",
    "    a=max(df_11_grade.loc[i])\n",
    "    cai.append(a)"
   ]
  },
  {
   "cell_type": "markdown",
   "id": "included-berry",
   "metadata": {},
   "source": [
    "CAI 등급설정"
   ]
  },
  {
   "cell_type": "code",
   "execution_count": null,
   "id": "utility-video",
   "metadata": {},
   "outputs": [],
   "source": [
    "cai = pd.DataFrame(cai)\n",
    "df_11['CAI']=cai\n",
    "df_11['CAI_GRADE']=0"
   ]
  },
  {
   "cell_type": "code",
   "execution_count": null,
   "id": "boring-alarm",
   "metadata": {},
   "outputs": [],
   "source": [
    "def cai_grade(x):\n",
    "    if x <= 50:\n",
    "        return  \"좋음\"\n",
    "    elif x <= 100:\n",
    "        return \"보통\"\n",
    "    elif x <=250:\n",
    "        return \"나쁨\"\n",
    "    else:\n",
    "        return \"매우나쁨\""
   ]
  },
  {
   "cell_type": "code",
   "execution_count": null,
   "id": "liked-simulation",
   "metadata": {},
   "outputs": [],
   "source": [
    "df_11['CAI_GRADE'] = df_11['CAI'].apply(cai_grade)"
   ]
  },
  {
   "cell_type": "code",
   "execution_count": null,
   "id": "genetic-editor",
   "metadata": {},
   "outputs": [],
   "source": [
    "#df_11.to_csv(\"air_pollution.csv\",index=False)"
   ]
  },
  {
   "cell_type": "code",
   "execution_count": null,
   "id": "ethical-mapping",
   "metadata": {},
   "outputs": [],
   "source": [
    "air_pollution = gpd.GeoDataFrame(pd.read_csv(\"./data/수원시_기상데이터.csv\"))"
   ]
  },
  {
   "cell_type": "code",
   "execution_count": null,
   "id": "different-resource",
   "metadata": {},
   "outputs": [],
   "source": [
    "air_pollution['year'] = air_pollution.측정월.str.split('.').str[0]\n",
    "air_pollution['month'] = air_pollution.측정월.str.split('.').str[1]"
   ]
  },
  {
   "cell_type": "code",
   "execution_count": null,
   "id": "prescription-receptor",
   "metadata": {},
   "outputs": [],
   "source": [
    "air_pollution['month'] = air_pollution.month.str.split('월').str[0]\n",
    "air_pollution"
   ]
  },
  {
   "cell_type": "markdown",
   "id": "adjacent-shelter",
   "metadata": {},
   "source": [
    "# 기상데이터 결합 "
   ]
  },
  {
   "cell_type": "code",
   "execution_count": null,
   "id": "trained-entrance",
   "metadata": {},
   "outputs": [],
   "source": [
    "df_13.head() # 강수량, 적설, 지면상태  제거 "
   ]
  },
  {
   "cell_type": "code",
   "execution_count": null,
   "id": "honey-password",
   "metadata": {},
   "outputs": [],
   "source": [
    "df_13.info() "
   ]
  },
  {
   "cell_type": "code",
   "execution_count": null,
   "id": "concerned-intelligence",
   "metadata": {},
   "outputs": [],
   "source": [
    "df_13[\"기온(°C)\"].value_counts()\n",
    "df_13 = df_13[df_13['기온(°C)']!=''].reset_index()\n",
    "df_13 = df_13[df_13['풍속(m/s)']!=''].reset_index()"
   ]
  },
  {
   "cell_type": "code",
   "execution_count": null,
   "id": "neural-family",
   "metadata": {},
   "outputs": [],
   "source": [
    "df_13[\"기온(°C)\"] = df_13[\"기온(°C)\"].astype(\"float\")\n",
    "df_13[\"풍속(m/s)\"] = df_13[\"풍속(m/s)\"].astype(\"float\")\n",
    "df_13[\"습도(%)\"] = df_13[\"습도(%)\"].astype(\"float\")"
   ]
  },
  {
   "cell_type": "code",
   "execution_count": null,
   "id": "satisfied-latino",
   "metadata": {},
   "outputs": [],
   "source": [
    "df_13.info()"
   ]
  },
  {
   "cell_type": "code",
   "execution_count": null,
   "id": "conditional-eclipse",
   "metadata": {},
   "outputs": [],
   "source": [
    "df_13.drop(['geometry'],axis=1, inplace=True)"
   ]
  },
  {
   "cell_type": "code",
   "execution_count": null,
   "id": "cardiac-baking",
   "metadata": {},
   "outputs": [],
   "source": [
    "# 불필요 변수 제거 \n",
    "df_13.drop(['강수량(mm)'],axis=1, inplace=True)\n",
    "df_13.drop(['지면상태'],axis=1, inplace=True)\n",
    "df_13.drop(['적설(cm)'],axis=1, inplace=True)\n",
    "df_13.drop(['level_0'],axis=1, inplace=True)\n",
    "df_13.drop(['index'],axis=1, inplace=True)"
   ]
  },
  {
   "cell_type": "code",
   "execution_count": null,
   "id": "owned-training",
   "metadata": {},
   "outputs": [],
   "source": [
    "df_13"
   ]
  },
  {
   "cell_type": "code",
   "execution_count": null,
   "id": "numerous-theorem",
   "metadata": {},
   "outputs": [],
   "source": [
    "df_13.info()\n",
    "#df_13.to_csv(\"weather.csv\",index=False)"
   ]
  },
  {
   "cell_type": "markdown",
   "id": "constitutional-flight",
   "metadata": {},
   "source": [
    "# 기상 데이터 외부 참조"
   ]
  },
  {
   "cell_type": "code",
   "execution_count": null,
   "id": "indoor-statement",
   "metadata": {},
   "outputs": [],
   "source": [
    "# 외부데이터 참조 \n",
    "temp = pd.read_csv(\"temperature.csv\",encoding='cp949')\n",
    "temp"
   ]
  },
  {
   "cell_type": "code",
   "execution_count": null,
   "id": "structured-restaurant",
   "metadata": {},
   "outputs": [],
   "source": [
    "temp['year'] = temp.일시.str.split('-').str[0]\n",
    "temp['month'] = temp.일시.str.split('-').str[1]\n",
    "temp"
   ]
  },
  {
   "cell_type": "code",
   "execution_count": null,
   "id": "persistent-pharmacology",
   "metadata": {},
   "outputs": [],
   "source": [
    "temp.info()\n",
    "temp[\"year\"] = temp[\"year\"].astype(\"int\")\n",
    "temp[\"month\"] = temp[\"month\"].astype(\"int\")"
   ]
  },
  {
   "cell_type": "code",
   "execution_count": null,
   "id": "infectious-arthur",
   "metadata": {},
   "outputs": [],
   "source": [
    "air_pollution.info()\n",
    "air_pollution[\"year\"] = air_pollution[\"year\"].astype(\"int\")\n",
    "air_pollution[\"month\"] = air_pollution[\"month\"].astype(\"int\")"
   ]
  },
  {
   "cell_type": "code",
   "execution_count": null,
   "id": "sharing-treatment",
   "metadata": {},
   "outputs": [],
   "source": [
    "temp = temp[['year','month','평균기온(℃)','평균풍속(m/s)','최대풍속풍향(deg)']]"
   ]
  },
  {
   "cell_type": "code",
   "execution_count": null,
   "id": "ambient-credits",
   "metadata": {},
   "outputs": [],
   "source": [
    "temp"
   ]
  },
  {
   "cell_type": "code",
   "execution_count": null,
   "id": "accepting-principal",
   "metadata": {},
   "outputs": [],
   "source": [
    "air_pollution"
   ]
  },
  {
   "cell_type": "markdown",
   "id": "soviet-waters",
   "metadata": {},
   "source": [
    "# 대기오염데이터, 기상데이터 결합"
   ]
  },
  {
   "cell_type": "code",
   "execution_count": null,
   "id": "international-motorcycle",
   "metadata": {},
   "outputs": [],
   "source": [
    "air = pd.merge(air_pollution,temp,how='left',on=['year','month'])"
   ]
  },
  {
   "cell_type": "code",
   "execution_count": null,
   "id": "virgin-reach",
   "metadata": {},
   "outputs": [],
   "source": [
    "#air.to_csv(\"air.csv\",index=False)"
   ]
  },
  {
   "cell_type": "code",
   "execution_count": null,
   "id": "administrative-finding",
   "metadata": {},
   "outputs": [],
   "source": [
    "air = pd.read_csv(\"air.csv\")"
   ]
  },
  {
   "cell_type": "code",
   "execution_count": null,
   "id": "removed-backing",
   "metadata": {},
   "outputs": [],
   "source": [
    "air"
   ]
  },
  {
   "cell_type": "code",
   "execution_count": null,
   "id": "descending-encounter",
   "metadata": {},
   "outputs": [],
   "source": [
    "air = air[['year','month','측정소','CAI','CAI_GRADE','평균기온(℃)','평균풍속(m/s)','최대풍속풍향(deg)','lon','lat']]"
   ]
  },
  {
   "cell_type": "code",
   "execution_count": null,
   "id": "boxed-gathering",
   "metadata": {},
   "outputs": [],
   "source": [
    "air = air.rename(columns = {\"측정소\":\"center\",\"평균기온(℃)\":\"temp\",\n",
    "                            \"평균풍속(m/s)\":\"wind\",\n",
    "                          \"최대풍속풍향(deg)\":\"direction\"})    "
   ]
  },
  {
   "cell_type": "code",
   "execution_count": null,
   "id": "following-judges",
   "metadata": {},
   "outputs": [],
   "source": [
    "air"
   ]
  },
  {
   "cell_type": "code",
   "execution_count": null,
   "id": "accessory-commerce",
   "metadata": {},
   "outputs": [],
   "source": [
    "#air.to_csv(\"air.csv\",index=False)"
   ]
  },
  {
   "cell_type": "code",
   "execution_count": null,
   "id": "progressive-receipt",
   "metadata": {},
   "outputs": [],
   "source": [
    "air = pd.read_csv(\"air.csv\")"
   ]
  },
  {
   "cell_type": "code",
   "execution_count": null,
   "id": "floating-parallel",
   "metadata": {},
   "outputs": [],
   "source": [
    "air.info()"
   ]
  },
  {
   "cell_type": "code",
   "execution_count": null,
   "id": "usual-homeless",
   "metadata": {},
   "outputs": [],
   "source": [
    "air['center'].value_counts()"
   ]
  },
  {
   "cell_type": "code",
   "execution_count": null,
   "id": "committed-delta",
   "metadata": {},
   "outputs": [],
   "source": [
    "plt.subplots(figsize=(8,7))\n",
    "sns.distplot(air['temp'], kde_kws={'bw':0.1})\n",
    "plt.show() # 계절별로 묶을 필요가 있다 "
   ]
  },
  {
   "cell_type": "code",
   "execution_count": null,
   "id": "least-seattle",
   "metadata": {},
   "outputs": [],
   "source": [
    "plt.subplots(figsize=(8,7))\n",
    "sns.distplot(air['wind'], kde_kws={'bw':0.1})\n",
    "plt.show() # 풍속은 몇몇 높은곳빼고 비슷하다."
   ]
  },
  {
   "cell_type": "code",
   "execution_count": null,
   "id": "sustainable-school",
   "metadata": {},
   "outputs": [],
   "source": [
    "air"
   ]
  },
  {
   "cell_type": "code",
   "execution_count": null,
   "id": "round-april",
   "metadata": {},
   "outputs": [],
   "source": [
    "pd.crosstab(air['center'], air['CAI_GRADE'],margins=True).style.background_gradient(cmap='summer')\n",
    "# 호매실동은 나쁜곳이 없다. "
   ]
  },
  {
   "cell_type": "code",
   "execution_count": null,
   "id": "internal-certificate",
   "metadata": {},
   "outputs": [],
   "source": [
    "pd.crosstab(air['center'], air['month'],margins=True).style.background_gradient(cmap='summer')\n",
    "# 호매실은 2019년 1,2,3 측정 설치전이라 하나씩 부족하다 "
   ]
  },
  {
   "cell_type": "code",
   "execution_count": null,
   "id": "comprehensive-release",
   "metadata": {},
   "outputs": [],
   "source": [
    "sns.factorplot(x= 'year', y='CAI', hue = \"month\",data=air, saturation=4, size=9, aspect=1)\n",
    "# 11월부터~ 3월까지 대체적으로 오염지수가 높다 \n",
    "# 101이상 부터 나쁨\n",
    "# 51~100 보통"
   ]
  },
  {
   "cell_type": "code",
   "execution_count": null,
   "id": "impressed-affect",
   "metadata": {},
   "outputs": [],
   "source": [
    "air['CAI_GRADE']= air['CAI_GRADE'].map({'나쁨' : 2, '보통':1, '좋음':0})"
   ]
  },
  {
   "cell_type": "code",
   "execution_count": null,
   "id": "sunrise-monitoring",
   "metadata": {},
   "outputs": [],
   "source": [
    "sns.factorplot(x= 'month', y='CAI', hue = \"center\",data=air, saturation=4, size=9, aspect=1)\n",
    "# 분기별로 묶는 방법 고려 "
   ]
  },
  {
   "cell_type": "code",
   "execution_count": null,
   "id": "indonesian-journalism",
   "metadata": {},
   "outputs": [],
   "source": [
    "sns.factorplot(x= 'month', y='direction', hue = \"center\",data=air, saturation=4, size=9, aspect=1)\n",
    "# 풍향 자체는 계절과도 관계가 있어 변수 제거 "
   ]
  },
  {
   "cell_type": "code",
   "execution_count": null,
   "id": "important-norfolk",
   "metadata": {},
   "outputs": [],
   "source": [
    "sns.factorplot(x= 'year', y='direction', hue = \"center\",data=air, saturation=4, size=9, aspect=1)"
   ]
  },
  {
   "cell_type": "code",
   "execution_count": null,
   "id": "later-nigeria",
   "metadata": {},
   "outputs": [],
   "source": [
    "air.corr = air[['CAI','temp','wind','direction']]"
   ]
  },
  {
   "cell_type": "code",
   "execution_count": null,
   "id": "wrong-performer",
   "metadata": {
    "scrolled": false
   },
   "outputs": [],
   "source": [
    "#  상관관계 분석\n",
    "plt.figure(figsize=(10,10))\n",
    "sns.heatmap(data=air.corr.corr(),annot=True,\n",
    "           fmt='.2f',linewidths=.5, cmap='Blues')\n",
    "# 대기오염지수와 온도,방향에 상관관계가 있다.\n",
    "# 온도와 대기오염지수는 음의 상관관계가 있다. *겨울,봄에 미세먼지가 더 심하다\n",
    "# 풍향과 대기오염지수는 양의 상관관계가 있다."
   ]
  },
  {
   "cell_type": "code",
   "execution_count": null,
   "id": "alleged-looking",
   "metadata": {},
   "outputs": [],
   "source": [
    "air"
   ]
  },
  {
   "cell_type": "code",
   "execution_count": null,
   "id": "controlling-milan",
   "metadata": {},
   "outputs": [],
   "source": [
    "air_group = air.groupby(['month','center'],as_index=False)[['CAI','CAI_GRADE','temp','wind','lon','lat']].mean()"
   ]
  },
  {
   "cell_type": "code",
   "execution_count": null,
   "id": "planned-niger",
   "metadata": {},
   "outputs": [],
   "source": [
    "#air_group.to_csv(\"air_group.csv\",index=False)"
   ]
  },
  {
   "cell_type": "code",
   "execution_count": null,
   "id": "tracked-interaction",
   "metadata": {},
   "outputs": [],
   "source": [
    "air_group = pd.read_csv(\"air_group.csv\")"
   ]
  },
  {
   "cell_type": "code",
   "execution_count": null,
   "id": "brazilian-mechanism",
   "metadata": {},
   "outputs": [],
   "source": [
    "air_group"
   ]
  },
  {
   "cell_type": "code",
   "execution_count": null,
   "id": "angry-spine",
   "metadata": {},
   "outputs": [],
   "source": [
    "# 분기값 추가 \n",
    "def quarter(x):\n",
    "    if x >= 1 and x <= 3:\n",
    "        return 1\n",
    "    elif x >= 4 and x <= 6:\n",
    "        return 2\n",
    "    elif x >= 7 and x <= 9:\n",
    "        return 3\n",
    "    else:\n",
    "        return 4"
   ]
  },
  {
   "cell_type": "code",
   "execution_count": null,
   "id": "robust-donor",
   "metadata": {},
   "outputs": [],
   "source": [
    "air_group['분기']= air_group['month'].apply(quarter)"
   ]
  },
  {
   "cell_type": "code",
   "execution_count": null,
   "id": "after-penalty",
   "metadata": {},
   "outputs": [],
   "source": [
    "air_group"
   ]
  },
  {
   "cell_type": "code",
   "execution_count": null,
   "id": "swiss-school",
   "metadata": {},
   "outputs": [],
   "source": [
    "# 분기별그룹화하여 평균값 부여\n",
    "air_group2 = air_group.groupby(['center','분기'],as_index=False)[['CAI','CAI_GRADE','temp','wind','lon','lat']].mean()"
   ]
  },
  {
   "cell_type": "code",
   "execution_count": null,
   "id": "covered-inflation",
   "metadata": {},
   "outputs": [],
   "source": [
    "air_group2\n",
    "air_group2['CAI_GRADE'] = air_group2['CAI'].apply(cai_grade)\n",
    "air_group2"
   ]
  },
  {
   "cell_type": "code",
   "execution_count": null,
   "id": "usual-looking",
   "metadata": {},
   "outputs": [],
   "source": [
    "#air_group2.to_csv(\"air_group.csv\",index=False)"
   ]
  }
 ],
 "metadata": {
  "kernelspec": {
   "display_name": "Python 3",
   "language": "python",
   "name": "python3"
  },
  "language_info": {
   "codemirror_mode": {
    "name": "ipython",
    "version": 3
   },
   "file_extension": ".py",
   "mimetype": "text/x-python",
   "name": "python",
   "nbconvert_exporter": "python",
   "pygments_lexer": "ipython3",
   "version": "3.7.9"
  }
 },
 "nbformat": 4,
 "nbformat_minor": 5
}
